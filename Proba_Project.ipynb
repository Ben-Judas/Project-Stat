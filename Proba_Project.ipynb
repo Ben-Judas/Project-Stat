{
  "nbformat": 4,
  "nbformat_minor": 0,
  "metadata": {
    "interpreter": {
      "hash": "31e8f33e4e12e26f00deca7f895cd7111f11e9f5b643dff771dde02c2ff4bdfe"
    },
    "kernelspec": {
      "display_name": "Python 3",
      "language": "python",
      "name": "python3"
    },
    "language_info": {
      "codemirror_mode": {
        "name": "ipython",
        "version": 3
      },
      "file_extension": ".py",
      "mimetype": "text/x-python",
      "name": "python",
      "nbconvert_exporter": "python",
      "pygments_lexer": "ipython3",
      "version": "3.7.4"
    },
    "colab": {
      "name": "Proba Project.ipynb",
      "provenance": [],
      "collapsed_sections": []
    }
  },
  "cells": [
    {
      "cell_type": "markdown",
      "metadata": {
        "id": "h5nIBLHQPcLI"
      },
      "source": [
        "# Ayiti Analytics Probability and Statistics Project"
      ]
    },
    {
      "cell_type": "markdown",
      "metadata": {
        "id": "soV5dE66PcLJ"
      },
      "source": [
        "Use all the files to have a final datasets to have the following columns\n",
        "   <ul>\n",
        "    <li>questid</li>\n",
        "    <li>gender</li>\n",
        "    <li>age (age of applicant)</li>\n",
        "    <li>communeName (use data prep in commune file)</li>\n",
        "    <li>application_date (created at in quest file)</li>\n",
        "    <li>enroll_date (created_at in enroll file)</li>\n",
        "    <li>is_enroll (Yes/No) (use data prep in enroll file)</li>\n",
        "    <li>Education Level</li>\n",
        "   <li>Communication channels(hear_AA1)</li>\n",
        "    <li>Bootcamp Insterest (after_AA)</li>\n",
        "    <li>Payement Date (use ord and transaction files)</li>\n",
        "    <li>Payed (Yes/No)</li>\n",
        "    <li>list Technologies as columns based (use get_dummies)</li>\n",
        "    <li>list  Study domains (use get_dummies)</li>\n",
        "    <li>Job is formal</li>\n",
        "    <li>Have computer at home</li>\n",
        "    <li>Have internet at home</li>\n",
        "    \n",
        "   </ul>\n",
        "   "
      ]
    },
    {
      "cell_type": "markdown",
      "metadata": {
        "id": "WwHC_5TfHO9I"
      },
      "source": [
        "1. IMPORTING LIBRAIRIES"
      ]
    },
    {
      "cell_type": "code",
      "metadata": {
        "id": "ia5JpZAMPcLG"
      },
      "source": [
        "import pandas as pd\n",
        "import numpy as np\n",
        "from matplotlib import pyplot as plt\n",
        "import re as re\n",
        "import seaborn as sns\n",
        "import datetime as dt\n",
        "import io\n",
        "import re as re\n",
        "from scipy.stats import chi2_contingency"
      ],
      "execution_count": null,
      "outputs": []
    },
    {
      "cell_type": "markdown",
      "metadata": {
        "id": "wd4V1ONAHsI4"
      },
      "source": [
        "2. LOADING FILES"
      ]
    },
    {
      "cell_type": "code",
      "metadata": {
        "colab": {
          "resources": {
            "http://localhost:8080/nbextensions/google.colab/files.js": {
              "data": "Ly8gQ29weXJpZ2h0IDIwMTcgR29vZ2xlIExMQwovLwovLyBMaWNlbnNlZCB1bmRlciB0aGUgQXBhY2hlIExpY2Vuc2UsIFZlcnNpb24gMi4wICh0aGUgIkxpY2Vuc2UiKTsKLy8geW91IG1heSBub3QgdXNlIHRoaXMgZmlsZSBleGNlcHQgaW4gY29tcGxpYW5jZSB3aXRoIHRoZSBMaWNlbnNlLgovLyBZb3UgbWF5IG9idGFpbiBhIGNvcHkgb2YgdGhlIExpY2Vuc2UgYXQKLy8KLy8gICAgICBodHRwOi8vd3d3LmFwYWNoZS5vcmcvbGljZW5zZXMvTElDRU5TRS0yLjAKLy8KLy8gVW5sZXNzIHJlcXVpcmVkIGJ5IGFwcGxpY2FibGUgbGF3IG9yIGFncmVlZCB0byBpbiB3cml0aW5nLCBzb2Z0d2FyZQovLyBkaXN0cmlidXRlZCB1bmRlciB0aGUgTGljZW5zZSBpcyBkaXN0cmlidXRlZCBvbiBhbiAiQVMgSVMiIEJBU0lTLAovLyBXSVRIT1VUIFdBUlJBTlRJRVMgT1IgQ09ORElUSU9OUyBPRiBBTlkgS0lORCwgZWl0aGVyIGV4cHJlc3Mgb3IgaW1wbGllZC4KLy8gU2VlIHRoZSBMaWNlbnNlIGZvciB0aGUgc3BlY2lmaWMgbGFuZ3VhZ2UgZ292ZXJuaW5nIHBlcm1pc3Npb25zIGFuZAovLyBsaW1pdGF0aW9ucyB1bmRlciB0aGUgTGljZW5zZS4KCi8qKgogKiBAZmlsZW92ZXJ2aWV3IEhlbHBlcnMgZm9yIGdvb2dsZS5jb2xhYiBQeXRob24gbW9kdWxlLgogKi8KKGZ1bmN0aW9uKHNjb3BlKSB7CmZ1bmN0aW9uIHNwYW4odGV4dCwgc3R5bGVBdHRyaWJ1dGVzID0ge30pIHsKICBjb25zdCBlbGVtZW50ID0gZG9jdW1lbnQuY3JlYXRlRWxlbWVudCgnc3BhbicpOwogIGVsZW1lbnQudGV4dENvbnRlbnQgPSB0ZXh0OwogIGZvciAoY29uc3Qga2V5IG9mIE9iamVjdC5rZXlzKHN0eWxlQXR0cmlidXRlcykpIHsKICAgIGVsZW1lbnQuc3R5bGVba2V5XSA9IHN0eWxlQXR0cmlidXRlc1trZXldOwogIH0KICByZXR1cm4gZWxlbWVudDsKfQoKLy8gTWF4IG51bWJlciBvZiBieXRlcyB3aGljaCB3aWxsIGJlIHVwbG9hZGVkIGF0IGEgdGltZS4KY29uc3QgTUFYX1BBWUxPQURfU0laRSA9IDEwMCAqIDEwMjQ7CgpmdW5jdGlvbiBfdXBsb2FkRmlsZXMoaW5wdXRJZCwgb3V0cHV0SWQpIHsKICBjb25zdCBzdGVwcyA9IHVwbG9hZEZpbGVzU3RlcChpbnB1dElkLCBvdXRwdXRJZCk7CiAgY29uc3Qgb3V0cHV0RWxlbWVudCA9IGRvY3VtZW50LmdldEVsZW1lbnRCeUlkKG91dHB1dElkKTsKICAvLyBDYWNoZSBzdGVwcyBvbiB0aGUgb3V0cHV0RWxlbWVudCB0byBtYWtlIGl0IGF2YWlsYWJsZSBmb3IgdGhlIG5leHQgY2FsbAogIC8vIHRvIHVwbG9hZEZpbGVzQ29udGludWUgZnJvbSBQeXRob24uCiAgb3V0cHV0RWxlbWVudC5zdGVwcyA9IHN0ZXBzOwoKICByZXR1cm4gX3VwbG9hZEZpbGVzQ29udGludWUob3V0cHV0SWQpOwp9CgovLyBUaGlzIGlzIHJvdWdobHkgYW4gYXN5bmMgZ2VuZXJhdG9yIChub3Qgc3VwcG9ydGVkIGluIHRoZSBicm93c2VyIHlldCksCi8vIHdoZXJlIHRoZXJlIGFyZSBtdWx0aXBsZSBhc3luY2hyb25vdXMgc3RlcHMgYW5kIHRoZSBQeXRob24gc2lkZSBpcyBnb2luZwovLyB0byBwb2xsIGZvciBjb21wbGV0aW9uIG9mIGVhY2ggc3RlcC4KLy8gVGhpcyB1c2VzIGEgUHJvbWlzZSB0byBibG9jayB0aGUgcHl0aG9uIHNpZGUgb24gY29tcGxldGlvbiBvZiBlYWNoIHN0ZXAsCi8vIHRoZW4gcGFzc2VzIHRoZSByZXN1bHQgb2YgdGhlIHByZXZpb3VzIHN0ZXAgYXMgdGhlIGlucHV0IHRvIHRoZSBuZXh0IHN0ZXAuCmZ1bmN0aW9uIF91cGxvYWRGaWxlc0NvbnRpbnVlKG91dHB1dElkKSB7CiAgY29uc3Qgb3V0cHV0RWxlbWVudCA9IGRvY3VtZW50LmdldEVsZW1lbnRCeUlkKG91dHB1dElkKTsKICBjb25zdCBzdGVwcyA9IG91dHB1dEVsZW1lbnQuc3RlcHM7CgogIGNvbnN0IG5leHQgPSBzdGVwcy5uZXh0KG91dHB1dEVsZW1lbnQubGFzdFByb21pc2VWYWx1ZSk7CiAgcmV0dXJuIFByb21pc2UucmVzb2x2ZShuZXh0LnZhbHVlLnByb21pc2UpLnRoZW4oKHZhbHVlKSA9PiB7CiAgICAvLyBDYWNoZSB0aGUgbGFzdCBwcm9taXNlIHZhbHVlIHRvIG1ha2UgaXQgYXZhaWxhYmxlIHRvIHRoZSBuZXh0CiAgICAvLyBzdGVwIG9mIHRoZSBnZW5lcmF0b3IuCiAgICBvdXRwdXRFbGVtZW50Lmxhc3RQcm9taXNlVmFsdWUgPSB2YWx1ZTsKICAgIHJldHVybiBuZXh0LnZhbHVlLnJlc3BvbnNlOwogIH0pOwp9CgovKioKICogR2VuZXJhdG9yIGZ1bmN0aW9uIHdoaWNoIGlzIGNhbGxlZCBiZXR3ZWVuIGVhY2ggYXN5bmMgc3RlcCBvZiB0aGUgdXBsb2FkCiAqIHByb2Nlc3MuCiAqIEBwYXJhbSB7c3RyaW5nfSBpbnB1dElkIEVsZW1lbnQgSUQgb2YgdGhlIGlucHV0IGZpbGUgcGlja2VyIGVsZW1lbnQuCiAqIEBwYXJhbSB7c3RyaW5nfSBvdXRwdXRJZCBFbGVtZW50IElEIG9mIHRoZSBvdXRwdXQgZGlzcGxheS4KICogQHJldHVybiB7IUl0ZXJhYmxlPCFPYmplY3Q+fSBJdGVyYWJsZSBvZiBuZXh0IHN0ZXBzLgogKi8KZnVuY3Rpb24qIHVwbG9hZEZpbGVzU3RlcChpbnB1dElkLCBvdXRwdXRJZCkgewogIGNvbnN0IGlucHV0RWxlbWVudCA9IGRvY3VtZW50LmdldEVsZW1lbnRCeUlkKGlucHV0SWQpOwogIGlucHV0RWxlbWVudC5kaXNhYmxlZCA9IGZhbHNlOwoKICBjb25zdCBvdXRwdXRFbGVtZW50ID0gZG9jdW1lbnQuZ2V0RWxlbWVudEJ5SWQob3V0cHV0SWQpOwogIG91dHB1dEVsZW1lbnQuaW5uZXJIVE1MID0gJyc7CgogIGNvbnN0IHBpY2tlZFByb21pc2UgPSBuZXcgUHJvbWlzZSgocmVzb2x2ZSkgPT4gewogICAgaW5wdXRFbGVtZW50LmFkZEV2ZW50TGlzdGVuZXIoJ2NoYW5nZScsIChlKSA9PiB7CiAgICAgIHJlc29sdmUoZS50YXJnZXQuZmlsZXMpOwogICAgfSk7CiAgfSk7CgogIGNvbnN0IGNhbmNlbCA9IGRvY3VtZW50LmNyZWF0ZUVsZW1lbnQoJ2J1dHRvbicpOwogIGlucHV0RWxlbWVudC5wYXJlbnRFbGVtZW50LmFwcGVuZENoaWxkKGNhbmNlbCk7CiAgY2FuY2VsLnRleHRDb250ZW50ID0gJ0NhbmNlbCB1cGxvYWQnOwogIGNvbnN0IGNhbmNlbFByb21pc2UgPSBuZXcgUHJvbWlzZSgocmVzb2x2ZSkgPT4gewogICAgY2FuY2VsLm9uY2xpY2sgPSAoKSA9PiB7CiAgICAgIHJlc29sdmUobnVsbCk7CiAgICB9OwogIH0pOwoKICAvLyBXYWl0IGZvciB0aGUgdXNlciB0byBwaWNrIHRoZSBmaWxlcy4KICBjb25zdCBmaWxlcyA9IHlpZWxkIHsKICAgIHByb21pc2U6IFByb21pc2UucmFjZShbcGlja2VkUHJvbWlzZSwgY2FuY2VsUHJvbWlzZV0pLAogICAgcmVzcG9uc2U6IHsKICAgICAgYWN0aW9uOiAnc3RhcnRpbmcnLAogICAgfQogIH07CgogIGNhbmNlbC5yZW1vdmUoKTsKCiAgLy8gRGlzYWJsZSB0aGUgaW5wdXQgZWxlbWVudCBzaW5jZSBmdXJ0aGVyIHBpY2tzIGFyZSBub3QgYWxsb3dlZC4KICBpbnB1dEVsZW1lbnQuZGlzYWJsZWQgPSB0cnVlOwoKICBpZiAoIWZpbGVzKSB7CiAgICByZXR1cm4gewogICAgICByZXNwb25zZTogewogICAgICAgIGFjdGlvbjogJ2NvbXBsZXRlJywKICAgICAgfQogICAgfTsKICB9CgogIGZvciAoY29uc3QgZmlsZSBvZiBmaWxlcykgewogICAgY29uc3QgbGkgPSBkb2N1bWVudC5jcmVhdGVFbGVtZW50KCdsaScpOwogICAgbGkuYXBwZW5kKHNwYW4oZmlsZS5uYW1lLCB7Zm9udFdlaWdodDogJ2JvbGQnfSkpOwogICAgbGkuYXBwZW5kKHNwYW4oCiAgICAgICAgYCgke2ZpbGUudHlwZSB8fCAnbi9hJ30pIC0gJHtmaWxlLnNpemV9IGJ5dGVzLCBgICsKICAgICAgICBgbGFzdCBtb2RpZmllZDogJHsKICAgICAgICAgICAgZmlsZS5sYXN0TW9kaWZpZWREYXRlID8gZmlsZS5sYXN0TW9kaWZpZWREYXRlLnRvTG9jYWxlRGF0ZVN0cmluZygpIDoKICAgICAgICAgICAgICAgICAgICAgICAgICAgICAgICAgICAgJ24vYSd9IC0gYCkpOwogICAgY29uc3QgcGVyY2VudCA9IHNwYW4oJzAlIGRvbmUnKTsKICAgIGxpLmFwcGVuZENoaWxkKHBlcmNlbnQpOwoKICAgIG91dHB1dEVsZW1lbnQuYXBwZW5kQ2hpbGQobGkpOwoKICAgIGNvbnN0IGZpbGVEYXRhUHJvbWlzZSA9IG5ldyBQcm9taXNlKChyZXNvbHZlKSA9PiB7CiAgICAgIGNvbnN0IHJlYWRlciA9IG5ldyBGaWxlUmVhZGVyKCk7CiAgICAgIHJlYWRlci5vbmxvYWQgPSAoZSkgPT4gewogICAgICAgIHJlc29sdmUoZS50YXJnZXQucmVzdWx0KTsKICAgICAgfTsKICAgICAgcmVhZGVyLnJlYWRBc0FycmF5QnVmZmVyKGZpbGUpOwogICAgfSk7CiAgICAvLyBXYWl0IGZvciB0aGUgZGF0YSB0byBiZSByZWFkeS4KICAgIGxldCBmaWxlRGF0YSA9IHlpZWxkIHsKICAgICAgcHJvbWlzZTogZmlsZURhdGFQcm9taXNlLAogICAgICByZXNwb25zZTogewogICAgICAgIGFjdGlvbjogJ2NvbnRpbnVlJywKICAgICAgfQogICAgfTsKCiAgICAvLyBVc2UgYSBjaHVua2VkIHNlbmRpbmcgdG8gYXZvaWQgbWVzc2FnZSBzaXplIGxpbWl0cy4gU2VlIGIvNjIxMTU2NjAuCiAgICBsZXQgcG9zaXRpb24gPSAwOwogICAgZG8gewogICAgICBjb25zdCBsZW5ndGggPSBNYXRoLm1pbihmaWxlRGF0YS5ieXRlTGVuZ3RoIC0gcG9zaXRpb24sIE1BWF9QQVlMT0FEX1NJWkUpOwogICAgICBjb25zdCBjaHVuayA9IG5ldyBVaW50OEFycmF5KGZpbGVEYXRhLCBwb3NpdGlvbiwgbGVuZ3RoKTsKICAgICAgcG9zaXRpb24gKz0gbGVuZ3RoOwoKICAgICAgY29uc3QgYmFzZTY0ID0gYnRvYShTdHJpbmcuZnJvbUNoYXJDb2RlLmFwcGx5KG51bGwsIGNodW5rKSk7CiAgICAgIHlpZWxkIHsKICAgICAgICByZXNwb25zZTogewogICAgICAgICAgYWN0aW9uOiAnYXBwZW5kJywKICAgICAgICAgIGZpbGU6IGZpbGUubmFtZSwKICAgICAgICAgIGRhdGE6IGJhc2U2NCwKICAgICAgICB9LAogICAgICB9OwoKICAgICAgbGV0IHBlcmNlbnREb25lID0gZmlsZURhdGEuYnl0ZUxlbmd0aCA9PT0gMCA/CiAgICAgICAgICAxMDAgOgogICAgICAgICAgTWF0aC5yb3VuZCgocG9zaXRpb24gLyBmaWxlRGF0YS5ieXRlTGVuZ3RoKSAqIDEwMCk7CiAgICAgIHBlcmNlbnQudGV4dENvbnRlbnQgPSBgJHtwZXJjZW50RG9uZX0lIGRvbmVgOwoKICAgIH0gd2hpbGUgKHBvc2l0aW9uIDwgZmlsZURhdGEuYnl0ZUxlbmd0aCk7CiAgfQoKICAvLyBBbGwgZG9uZS4KICB5aWVsZCB7CiAgICByZXNwb25zZTogewogICAgICBhY3Rpb246ICdjb21wbGV0ZScsCiAgICB9CiAgfTsKfQoKc2NvcGUuZ29vZ2xlID0gc2NvcGUuZ29vZ2xlIHx8IHt9OwpzY29wZS5nb29nbGUuY29sYWIgPSBzY29wZS5nb29nbGUuY29sYWIgfHwge307CnNjb3BlLmdvb2dsZS5jb2xhYi5fZmlsZXMgPSB7CiAgX3VwbG9hZEZpbGVzLAogIF91cGxvYWRGaWxlc0NvbnRpbnVlLAp9Owp9KShzZWxmKTsK",
              "ok": true,
              "headers": [
                [
                  "content-type",
                  "application/javascript"
                ]
              ],
              "status": 200,
              "status_text": ""
            }
          },
          "base_uri": "https://localhost:8080/",
          "height": 310
        },
        "id": "9lhEE-0tGKgZ",
        "outputId": "42a3cb2f-7ab3-4649-819d-b41336cc0adb"
      },
      "source": [
        "from google.colab import files\n",
        "file =files.upload()"
      ],
      "execution_count": null,
      "outputs": [
        {
          "output_type": "display_data",
          "data": {
            "text/html": [
              "\n",
              "     <input type=\"file\" id=\"files-083754c5-36b2-4aa5-9b46-3dc6d8cc9563\" name=\"files[]\" multiple disabled\n",
              "        style=\"border:none\" />\n",
              "     <output id=\"result-083754c5-36b2-4aa5-9b46-3dc6d8cc9563\">\n",
              "      Upload widget is only available when the cell has been executed in the\n",
              "      current browser session. Please rerun this cell to enable.\n",
              "      </output>\n",
              "      <script src=\"/nbextensions/google.colab/files.js\"></script> "
            ],
            "text/plain": [
              "<IPython.core.display.HTML object>"
            ]
          },
          "metadata": {
            "tags": []
          }
        },
        {
          "output_type": "stream",
          "text": [
            "Saving commune.xlsx to commune (1).xlsx\n",
            "Saving enroll.csv to enroll (1).csv\n",
            "Saving industry.csv to industry (1).csv\n",
            "Saving ord.csv to ord (1).csv\n",
            "Saving quest.csv to quest (1).csv\n",
            "Saving study_domain.csv to study_domain (1).csv\n",
            "Saving technology.csv to technology (1).csv\n",
            "Saving transaction.csv to transaction (1).csv\n"
          ],
          "name": "stdout"
        }
      ]
    },
    {
      "cell_type": "markdown",
      "metadata": {
        "id": "D9N2CcViH4CJ"
      },
      "source": [
        "3. READING FILES"
      ]
    },
    {
      "cell_type": "code",
      "metadata": {
        "id": "RxqdNrF8HAPB"
      },
      "source": [
        "enroll = pd.read_csv(r\"enroll.csv\")\n",
        "quest = pd.read_csv(r\"quest.csv\")\n",
        "industry = pd.read_csv(r\"industry.csv\")\n",
        "ord = pd.read_csv(r\"ord.csv\")\n",
        "study_domain = pd.read_csv(r\"study_domain.csv\")\n",
        "transaction = pd.read_csv(r\"transaction.csv\")\n",
        "technology = pd.read_csv(r\"technology.csv\")\n",
        "commune=pd.read_excel(r\"commune.xlsx\")"
      ],
      "execution_count": null,
      "outputs": []
    },
    {
      "cell_type": "markdown",
      "metadata": {
        "id": "4cDw5_O2LCl4"
      },
      "source": [
        "4. CONVERT INTO DUMMIES & GROUP BY COMMON COLUMN"
      ]
    },
    {
      "cell_type": "code",
      "metadata": {
        "colab": {
          "base_uri": "https://localhost:8080/",
          "height": 250
        },
        "id": "L7xAhTxYxeGN",
        "outputId": "4c76c377-ae6a-4571-a7ed-1dd72cd25863"
      },
      "source": [
        "# concate ord and transaction columns\n",
        "merge1=pd.concat([ord,transaction],axis=0)\n",
        "merge1.head(2)"
      ],
      "execution_count": null,
      "outputs": [
        {
          "output_type": "execute_result",
          "data": {
            "text/html": [
              "<div>\n",
              "<style scoped>\n",
              "    .dataframe tbody tr th:only-of-type {\n",
              "        vertical-align: middle;\n",
              "    }\n",
              "\n",
              "    .dataframe tbody tr th {\n",
              "        vertical-align: top;\n",
              "    }\n",
              "\n",
              "    .dataframe thead th {\n",
              "        text-align: right;\n",
              "    }\n",
              "</style>\n",
              "<table border=\"1\" class=\"dataframe\">\n",
              "  <thead>\n",
              "    <tr style=\"text-align: right;\">\n",
              "      <th></th>\n",
              "      <th>Unnamed: 0</th>\n",
              "      <th>created_at</th>\n",
              "      <th>user_id</th>\n",
              "      <th>product_name</th>\n",
              "      <th>product_id</th>\n",
              "      <th>amount_dollars</th>\n",
              "      <th>amount_cents</th>\n",
              "      <th>subscription</th>\n",
              "      <th>coupon_code</th>\n",
              "      <th>coupon_id</th>\n",
              "      <th>affiliate_referral_code</th>\n",
              "      <th>status</th>\n",
              "      <th>quest_id</th>\n",
              "      <th>modified_at</th>\n",
              "      <th>course_id</th>\n",
              "      <th>transaction_id</th>\n",
              "    </tr>\n",
              "  </thead>\n",
              "  <tbody>\n",
              "    <tr>\n",
              "      <th>0</th>\n",
              "      <td>0</td>\n",
              "      <td>2021-03-14T15:34:35.014Z</td>\n",
              "      <td>41587952</td>\n",
              "      <td>Entwodiksyon Nan Syans Done</td>\n",
              "      <td>1100636.0</td>\n",
              "      <td>20.0</td>\n",
              "      <td>2000.0</td>\n",
              "      <td>False</td>\n",
              "      <td>NaN</td>\n",
              "      <td>NaN</td>\n",
              "      <td>NaN</td>\n",
              "      <td>Complete</td>\n",
              "      <td>906b3c86-ce95-11eb-b6a7-7c67a234f601</td>\n",
              "      <td>NaN</td>\n",
              "      <td>NaN</td>\n",
              "      <td>NaN</td>\n",
              "    </tr>\n",
              "    <tr>\n",
              "      <th>1</th>\n",
              "      <td>1</td>\n",
              "      <td>2021-03-14T04:20:23.483Z</td>\n",
              "      <td>41564742</td>\n",
              "      <td>Entwodiksyon Nan Syans Done</td>\n",
              "      <td>1100636.0</td>\n",
              "      <td>20.0</td>\n",
              "      <td>2000.0</td>\n",
              "      <td>False</td>\n",
              "      <td>NaN</td>\n",
              "      <td>NaN</td>\n",
              "      <td>NaN</td>\n",
              "      <td>Complete</td>\n",
              "      <td>906636cf-ce95-11eb-8679-7c67a234f601</td>\n",
              "      <td>NaN</td>\n",
              "      <td>NaN</td>\n",
              "      <td>NaN</td>\n",
              "    </tr>\n",
              "  </tbody>\n",
              "</table>\n",
              "</div>"
            ],
            "text/plain": [
              "   Unnamed: 0                created_at  ...  course_id transaction_id\n",
              "0           0  2021-03-14T15:34:35.014Z  ...        NaN            NaN\n",
              "1           1  2021-03-14T04:20:23.483Z  ...        NaN            NaN\n",
              "\n",
              "[2 rows x 16 columns]"
            ]
          },
          "metadata": {
            "tags": []
          },
          "execution_count": 92
        }
      ]
    },
    {
      "cell_type": "code",
      "metadata": {
        "colab": {
          "base_uri": "https://localhost:8080/",
          "height": 111
        },
        "id": "8A3UfKuhBk5J",
        "outputId": "0bd8396b-3c7c-4d7c-8dcc-02db4a943903"
      },
      "source": [
        "# Rename columns Created_at in Transaction files\n",
        "transaction.rename(columns={\"created_at\":\"moncash_date\"}, inplace=True)\n",
        "transaction.head(2)"
      ],
      "execution_count": null,
      "outputs": [
        {
          "output_type": "execute_result",
          "data": {
            "text/html": [
              "<div>\n",
              "<style scoped>\n",
              "    .dataframe tbody tr th:only-of-type {\n",
              "        vertical-align: middle;\n",
              "    }\n",
              "\n",
              "    .dataframe tbody tr th {\n",
              "        vertical-align: top;\n",
              "    }\n",
              "\n",
              "    .dataframe thead th {\n",
              "        text-align: right;\n",
              "    }\n",
              "</style>\n",
              "<table border=\"1\" class=\"dataframe\">\n",
              "  <thead>\n",
              "    <tr style=\"text-align: right;\">\n",
              "      <th></th>\n",
              "      <th>Unnamed: 0</th>\n",
              "      <th>moncash_date</th>\n",
              "      <th>modified_at</th>\n",
              "      <th>user_id</th>\n",
              "      <th>course_id</th>\n",
              "      <th>transaction_id</th>\n",
              "    </tr>\n",
              "  </thead>\n",
              "  <tbody>\n",
              "    <tr>\n",
              "      <th>0</th>\n",
              "      <td>0</td>\n",
              "      <td>2021-03-08T05:08:50.832Z</td>\n",
              "      <td>2021-03-08T05:08:50.832Z</td>\n",
              "      <td>40976440</td>\n",
              "      <td>1047613</td>\n",
              "      <td>4641281952</td>\n",
              "    </tr>\n",
              "    <tr>\n",
              "      <th>1</th>\n",
              "      <td>1</td>\n",
              "      <td>2021-03-08T17:26:35.841Z</td>\n",
              "      <td>2021-03-08T17:26:35.841Z</td>\n",
              "      <td>41179271</td>\n",
              "      <td>1047613</td>\n",
              "      <td>4644270160</td>\n",
              "    </tr>\n",
              "  </tbody>\n",
              "</table>\n",
              "</div>"
            ],
            "text/plain": [
              "   Unnamed: 0              moncash_date  ... course_id  transaction_id\n",
              "0           0  2021-03-08T05:08:50.832Z  ...   1047613      4641281952\n",
              "1           1  2021-03-08T17:26:35.841Z  ...   1047613      4644270160\n",
              "\n",
              "[2 rows x 6 columns]"
            ]
          },
          "metadata": {
            "tags": []
          },
          "execution_count": 93
        }
      ]
    },
    {
      "cell_type": "code",
      "metadata": {
        "id": "HGRnO4KsGKno"
      },
      "source": [
        "# We define a function in order to create dummies\n",
        "def dummies_create(data, value):\n",
        "  x=pd.get_dummies(data=data, columns=value, prefix=\"\", prefix_sep=\"\")\n",
        "  dummies=x.groupby(\"quest_id\").sum()\n",
        "  return dummies"
      ],
      "execution_count": null,
      "outputs": []
    },
    {
      "cell_type": "code",
      "metadata": {
        "id": "e4Ih7EfhGKq3"
      },
      "source": [
        "# create dummies with study_domain, technology and industry2 files\n",
        "study_domain2 = dummies_create(study_domain[[\"key\", \"quest_id\", \"values\"]], [\"values\"])\n",
        "technology2 = dummies_create(technology[[\"key\", \"quest_id\", \"values\"]], ['values'])\n",
        "industry2 = dummies_create(industry[[\"key\", \"quest_id\", \"values\"]], ['values'])"
      ],
      "execution_count": null,
      "outputs": []
    },
    {
      "cell_type": "code",
      "metadata": {
        "colab": {
          "base_uri": "https://localhost:8080/",
          "height": 111
        },
        "id": "47ckhgEcUFB1",
        "outputId": "959d0ad5-c256-46d5-9501-d47b6044f051"
      },
      "source": [
        "# Rename Create_at column in transaction file\n",
        "transaction.rename(columns={\"created_at\":\"payment_date\"}, inplace=True)\n",
        "transaction.head(2)"
      ],
      "execution_count": null,
      "outputs": [
        {
          "output_type": "execute_result",
          "data": {
            "text/html": [
              "<div>\n",
              "<style scoped>\n",
              "    .dataframe tbody tr th:only-of-type {\n",
              "        vertical-align: middle;\n",
              "    }\n",
              "\n",
              "    .dataframe tbody tr th {\n",
              "        vertical-align: top;\n",
              "    }\n",
              "\n",
              "    .dataframe thead th {\n",
              "        text-align: right;\n",
              "    }\n",
              "</style>\n",
              "<table border=\"1\" class=\"dataframe\">\n",
              "  <thead>\n",
              "    <tr style=\"text-align: right;\">\n",
              "      <th></th>\n",
              "      <th>Unnamed: 0</th>\n",
              "      <th>moncash_date</th>\n",
              "      <th>modified_at</th>\n",
              "      <th>user_id</th>\n",
              "      <th>course_id</th>\n",
              "      <th>transaction_id</th>\n",
              "    </tr>\n",
              "  </thead>\n",
              "  <tbody>\n",
              "    <tr>\n",
              "      <th>0</th>\n",
              "      <td>0</td>\n",
              "      <td>2021-03-08T05:08:50.832Z</td>\n",
              "      <td>2021-03-08T05:08:50.832Z</td>\n",
              "      <td>40976440</td>\n",
              "      <td>1047613</td>\n",
              "      <td>4641281952</td>\n",
              "    </tr>\n",
              "    <tr>\n",
              "      <th>1</th>\n",
              "      <td>1</td>\n",
              "      <td>2021-03-08T17:26:35.841Z</td>\n",
              "      <td>2021-03-08T17:26:35.841Z</td>\n",
              "      <td>41179271</td>\n",
              "      <td>1047613</td>\n",
              "      <td>4644270160</td>\n",
              "    </tr>\n",
              "  </tbody>\n",
              "</table>\n",
              "</div>"
            ],
            "text/plain": [
              "   Unnamed: 0              moncash_date  ... course_id  transaction_id\n",
              "0           0  2021-03-08T05:08:50.832Z  ...   1047613      4641281952\n",
              "1           1  2021-03-08T17:26:35.841Z  ...   1047613      4644270160\n",
              "\n",
              "[2 rows x 6 columns]"
            ]
          },
          "metadata": {
            "tags": []
          },
          "execution_count": 96
        }
      ]
    },
    {
      "cell_type": "code",
      "metadata": {
        "colab": {
          "base_uri": "https://localhost:8080/",
          "height": 250
        },
        "id": "Oz_lIemr0Iu7",
        "outputId": "52a63401-86f7-4ccb-e6e7-e4861388367d"
      },
      "source": [
        "# Rename columns Created_at in Ord files\n",
        "ord.rename(columns={\"created_at\":\"credit_card_date\"}, inplace=True)\n",
        "ord.head(2)"
      ],
      "execution_count": null,
      "outputs": [
        {
          "output_type": "execute_result",
          "data": {
            "text/html": [
              "<div>\n",
              "<style scoped>\n",
              "    .dataframe tbody tr th:only-of-type {\n",
              "        vertical-align: middle;\n",
              "    }\n",
              "\n",
              "    .dataframe tbody tr th {\n",
              "        vertical-align: top;\n",
              "    }\n",
              "\n",
              "    .dataframe thead th {\n",
              "        text-align: right;\n",
              "    }\n",
              "</style>\n",
              "<table border=\"1\" class=\"dataframe\">\n",
              "  <thead>\n",
              "    <tr style=\"text-align: right;\">\n",
              "      <th></th>\n",
              "      <th>Unnamed: 0</th>\n",
              "      <th>credit_card_date</th>\n",
              "      <th>user_id</th>\n",
              "      <th>product_name</th>\n",
              "      <th>product_id</th>\n",
              "      <th>amount_dollars</th>\n",
              "      <th>amount_cents</th>\n",
              "      <th>subscription</th>\n",
              "      <th>coupon_code</th>\n",
              "      <th>coupon_id</th>\n",
              "      <th>affiliate_referral_code</th>\n",
              "      <th>status</th>\n",
              "      <th>quest_id</th>\n",
              "    </tr>\n",
              "  </thead>\n",
              "  <tbody>\n",
              "    <tr>\n",
              "      <th>0</th>\n",
              "      <td>0</td>\n",
              "      <td>2021-03-14T15:34:35.014Z</td>\n",
              "      <td>41587952</td>\n",
              "      <td>Entwodiksyon Nan Syans Done</td>\n",
              "      <td>1100636</td>\n",
              "      <td>20</td>\n",
              "      <td>2000</td>\n",
              "      <td>False</td>\n",
              "      <td>NaN</td>\n",
              "      <td>NaN</td>\n",
              "      <td>NaN</td>\n",
              "      <td>Complete</td>\n",
              "      <td>906b3c86-ce95-11eb-b6a7-7c67a234f601</td>\n",
              "    </tr>\n",
              "    <tr>\n",
              "      <th>1</th>\n",
              "      <td>1</td>\n",
              "      <td>2021-03-14T04:20:23.483Z</td>\n",
              "      <td>41564742</td>\n",
              "      <td>Entwodiksyon Nan Syans Done</td>\n",
              "      <td>1100636</td>\n",
              "      <td>20</td>\n",
              "      <td>2000</td>\n",
              "      <td>False</td>\n",
              "      <td>NaN</td>\n",
              "      <td>NaN</td>\n",
              "      <td>NaN</td>\n",
              "      <td>Complete</td>\n",
              "      <td>906636cf-ce95-11eb-8679-7c67a234f601</td>\n",
              "    </tr>\n",
              "  </tbody>\n",
              "</table>\n",
              "</div>"
            ],
            "text/plain": [
              "   Unnamed: 0  ...                              quest_id\n",
              "0           0  ...  906b3c86-ce95-11eb-b6a7-7c67a234f601\n",
              "1           1  ...  906636cf-ce95-11eb-8679-7c67a234f601\n",
              "\n",
              "[2 rows x 13 columns]"
            ]
          },
          "metadata": {
            "tags": []
          },
          "execution_count": 97
        }
      ]
    },
    {
      "cell_type": "code",
      "metadata": {
        "colab": {
          "base_uri": "https://localhost:8080/",
          "height": 216
        },
        "id": "GxVV1dn6aPNU",
        "outputId": "1d13e511-c4a5-4230-89e6-d02893f0ef7a"
      },
      "source": [
        "# Rename Create_at column in enroll file\n",
        "enroll.rename(columns={\"created_at\":\"Enroll_Date\"}, inplace=True)\n",
        "enroll.head(2)"
      ],
      "execution_count": null,
      "outputs": [
        {
          "output_type": "execute_result",
          "data": {
            "text/html": [
              "<div>\n",
              "<style scoped>\n",
              "    .dataframe tbody tr th:only-of-type {\n",
              "        vertical-align: middle;\n",
              "    }\n",
              "\n",
              "    .dataframe tbody tr th {\n",
              "        vertical-align: top;\n",
              "    }\n",
              "\n",
              "    .dataframe thead th {\n",
              "        text-align: right;\n",
              "    }\n",
              "</style>\n",
              "<table border=\"1\" class=\"dataframe\">\n",
              "  <thead>\n",
              "    <tr style=\"text-align: right;\">\n",
              "      <th></th>\n",
              "      <th>Unnamed: 0</th>\n",
              "      <th>Enroll_Date</th>\n",
              "      <th>expiry_date</th>\n",
              "      <th>user_id</th>\n",
              "      <th>course_name</th>\n",
              "      <th>course_id</th>\n",
              "      <th>percentage_completed</th>\n",
              "      <th>completed_at</th>\n",
              "      <th>expired</th>\n",
              "      <th>is_free_trial</th>\n",
              "      <th>completed</th>\n",
              "      <th>started_at</th>\n",
              "      <th>activated_at</th>\n",
              "      <th>updated_at</th>\n",
              "      <th>quest_id</th>\n",
              "    </tr>\n",
              "  </thead>\n",
              "  <tbody>\n",
              "    <tr>\n",
              "      <th>0</th>\n",
              "      <td>0</td>\n",
              "      <td>2020-12-12T06:41:29.844Z</td>\n",
              "      <td>NaN</td>\n",
              "      <td>29816173</td>\n",
              "      <td>Entwodiksyon Nan Syans Done</td>\n",
              "      <td>1047613</td>\n",
              "      <td>0.0</td>\n",
              "      <td>NaN</td>\n",
              "      <td>False</td>\n",
              "      <td>True</td>\n",
              "      <td>False</td>\n",
              "      <td>NaN</td>\n",
              "      <td>NaN</td>\n",
              "      <td>2020-12-12T06:41:29.844Z</td>\n",
              "      <td>NaN</td>\n",
              "    </tr>\n",
              "    <tr>\n",
              "      <th>1</th>\n",
              "      <td>1</td>\n",
              "      <td>2020-12-13T14:41:17.720Z</td>\n",
              "      <td>NaN</td>\n",
              "      <td>35229766</td>\n",
              "      <td>Entwodiksyon Nan Syans Done</td>\n",
              "      <td>1047613</td>\n",
              "      <td>0.0</td>\n",
              "      <td>NaN</td>\n",
              "      <td>False</td>\n",
              "      <td>True</td>\n",
              "      <td>False</td>\n",
              "      <td>NaN</td>\n",
              "      <td>NaN</td>\n",
              "      <td>2020-12-13T14:41:17.720Z</td>\n",
              "      <td>NaN</td>\n",
              "    </tr>\n",
              "  </tbody>\n",
              "</table>\n",
              "</div>"
            ],
            "text/plain": [
              "   Unnamed: 0               Enroll_Date  ...                updated_at  quest_id\n",
              "0           0  2020-12-12T06:41:29.844Z  ...  2020-12-12T06:41:29.844Z       NaN\n",
              "1           1  2020-12-13T14:41:17.720Z  ...  2020-12-13T14:41:17.720Z       NaN\n",
              "\n",
              "[2 rows x 15 columns]"
            ]
          },
          "metadata": {
            "tags": []
          },
          "execution_count": 98
        }
      ]
    },
    {
      "cell_type": "code",
      "metadata": {
        "colab": {
          "base_uri": "https://localhost:8080/",
          "height": 250
        },
        "id": "_ZFsfmmMbjFp",
        "outputId": "d4188d84-69ba-4c73-d238-06c5529b1456"
      },
      "source": [
        "# Rename Create_at column in quest file\n",
        "quest.rename(columns={\"created_at\":\"Application_date\"}, inplace=True)\n",
        "quest.head(2)"
      ],
      "execution_count": null,
      "outputs": [
        {
          "output_type": "execute_result",
          "data": {
            "text/html": [
              "<div>\n",
              "<style scoped>\n",
              "    .dataframe tbody tr th:only-of-type {\n",
              "        vertical-align: middle;\n",
              "    }\n",
              "\n",
              "    .dataframe tbody tr th {\n",
              "        vertical-align: top;\n",
              "    }\n",
              "\n",
              "    .dataframe thead th {\n",
              "        text-align: right;\n",
              "    }\n",
              "</style>\n",
              "<table border=\"1\" class=\"dataframe\">\n",
              "  <thead>\n",
              "    <tr style=\"text-align: right;\">\n",
              "      <th></th>\n",
              "      <th>Unnamed: 0</th>\n",
              "      <th>gender</th>\n",
              "      <th>dob</th>\n",
              "      <th>commune</th>\n",
              "      <th>Application_date</th>\n",
              "      <th>modified_at</th>\n",
              "      <th>department</th>\n",
              "      <th>education_level</th>\n",
              "      <th>university</th>\n",
              "      <th>study_domain</th>\n",
              "      <th>current_employed</th>\n",
              "      <th>formal_sector_job</th>\n",
              "      <th>have_computer_home</th>\n",
              "      <th>internet_at_home</th>\n",
              "      <th>hear_AA_1</th>\n",
              "      <th>after_AA</th>\n",
              "      <th>quest_id</th>\n",
              "    </tr>\n",
              "  </thead>\n",
              "  <tbody>\n",
              "    <tr>\n",
              "      <th>0</th>\n",
              "      <td>0</td>\n",
              "      <td>male</td>\n",
              "      <td>25/08/1998</td>\n",
              "      <td>ht0111</td>\n",
              "      <td>2021-02-14T23:03:52.768400Z</td>\n",
              "      <td>2021-02-14T23:03:52.768462Z</td>\n",
              "      <td>NaN</td>\n",
              "      <td>unknown</td>\n",
              "      <td>unknown</td>\n",
              "      <td>[]</td>\n",
              "      <td>unknown</td>\n",
              "      <td>unknown</td>\n",
              "      <td>unknown</td>\n",
              "      <td>unknown</td>\n",
              "      <td>unknown</td>\n",
              "      <td>unknown</td>\n",
              "      <td>905dc006-ce95-11eb-b2f9-7c67a234f601</td>\n",
              "    </tr>\n",
              "    <tr>\n",
              "      <th>1</th>\n",
              "      <td>1</td>\n",
              "      <td>female</td>\n",
              "      <td>29/09/1996</td>\n",
              "      <td>ht0111</td>\n",
              "      <td>2021-02-16T16:01:10.861844Z</td>\n",
              "      <td>2021-02-16T16:01:10.861899Z</td>\n",
              "      <td>ht01</td>\n",
              "      <td>Bachelors (bacc +4)</td>\n",
              "      <td>other</td>\n",
              "      <td>['other']</td>\n",
              "      <td>No</td>\n",
              "      <td>unknown</td>\n",
              "      <td>Yes</td>\n",
              "      <td>Yes</td>\n",
              "      <td>Friend</td>\n",
              "      <td>Finding a job/internship</td>\n",
              "      <td>905ddcf2-ce95-11eb-9a92-7c67a234f601</td>\n",
              "    </tr>\n",
              "  </tbody>\n",
              "</table>\n",
              "</div>"
            ],
            "text/plain": [
              "   Unnamed: 0  ...                              quest_id\n",
              "0           0  ...  905dc006-ce95-11eb-b2f9-7c67a234f601\n",
              "1           1  ...  905ddcf2-ce95-11eb-9a92-7c67a234f601\n",
              "\n",
              "[2 rows x 17 columns]"
            ]
          },
          "metadata": {
            "tags": []
          },
          "execution_count": 99
        }
      ]
    },
    {
      "cell_type": "code",
      "metadata": {
        "colab": {
          "base_uri": "https://localhost:8080/",
          "height": 111
        },
        "id": "_cqzkvwHGKw3",
        "outputId": "bce1d4c0-cd1c-4645-d465-b5a32ac94cf6"
      },
      "source": [
        "#Transform \"Commune_Id\" Values in lower Character\n",
        "quest['department'] = quest['department'].apply(lambda x  : str(x))\n",
        "quest['department']= quest['department'].apply(lambda x : x.upper())\n",
        "quest['commune']= quest['commune'].apply(lambda x : x.upper())\n",
        "#Rename \"Commune_Id\" in \"commune\"\n",
        "commune.rename(columns = {\"Commune_Id\": \"commune\"}, inplace = True)\n",
        "commune.head(2)"
      ],
      "execution_count": null,
      "outputs": [
        {
          "output_type": "execute_result",
          "data": {
            "text/html": [
              "<div>\n",
              "<style scoped>\n",
              "    .dataframe tbody tr th:only-of-type {\n",
              "        vertical-align: middle;\n",
              "    }\n",
              "\n",
              "    .dataframe tbody tr th {\n",
              "        vertical-align: top;\n",
              "    }\n",
              "\n",
              "    .dataframe thead th {\n",
              "        text-align: right;\n",
              "    }\n",
              "</style>\n",
              "<table border=\"1\" class=\"dataframe\">\n",
              "  <thead>\n",
              "    <tr style=\"text-align: right;\">\n",
              "      <th></th>\n",
              "      <th>Commune_en</th>\n",
              "      <th>Commune_FR</th>\n",
              "      <th>commune</th>\n",
              "      <th>Departement</th>\n",
              "      <th>ADM1_PCODE</th>\n",
              "    </tr>\n",
              "  </thead>\n",
              "  <tbody>\n",
              "    <tr>\n",
              "      <th>0</th>\n",
              "      <td>Abricots</td>\n",
              "      <td>Abricots</td>\n",
              "      <td>HT0812</td>\n",
              "      <td>Grande'Anse</td>\n",
              "      <td>HT08</td>\n",
              "    </tr>\n",
              "    <tr>\n",
              "      <th>1</th>\n",
              "      <td>Acul du Nord</td>\n",
              "      <td>Acul du Nord</td>\n",
              "      <td>HT0321</td>\n",
              "      <td>North</td>\n",
              "      <td>HT03</td>\n",
              "    </tr>\n",
              "  </tbody>\n",
              "</table>\n",
              "</div>"
            ],
            "text/plain": [
              "     Commune_en    Commune_FR commune  Departement ADM1_PCODE\n",
              "0      Abricots      Abricots  HT0812  Grande'Anse       HT08\n",
              "1  Acul du Nord  Acul du Nord  HT0321        North       HT03"
            ]
          },
          "metadata": {
            "tags": []
          },
          "execution_count": 100
        }
      ]
    },
    {
      "cell_type": "markdown",
      "metadata": {
        "id": "QgWzo7adNLiQ"
      },
      "source": [
        "5. MERGE DATAFRAME"
      ]
    },
    {
      "cell_type": "code",
      "metadata": {
        "colab": {
          "base_uri": "https://localhost:8080/",
          "height": 250
        },
        "id": "86-Hx3rI-w9C",
        "outputId": "5ddca0e8-af2f-4786-ea98-5be9bf3a2659"
      },
      "source": [
        " # Merge Tables by \"quest_id\"\n",
        "result = pd.merge(quest,enroll,how=\"left\",on=\"quest_id\")\n",
        "result.head(2)"
      ],
      "execution_count": null,
      "outputs": [
        {
          "output_type": "execute_result",
          "data": {
            "text/html": [
              "<div>\n",
              "<style scoped>\n",
              "    .dataframe tbody tr th:only-of-type {\n",
              "        vertical-align: middle;\n",
              "    }\n",
              "\n",
              "    .dataframe tbody tr th {\n",
              "        vertical-align: top;\n",
              "    }\n",
              "\n",
              "    .dataframe thead th {\n",
              "        text-align: right;\n",
              "    }\n",
              "</style>\n",
              "<table border=\"1\" class=\"dataframe\">\n",
              "  <thead>\n",
              "    <tr style=\"text-align: right;\">\n",
              "      <th></th>\n",
              "      <th>Unnamed: 0_x</th>\n",
              "      <th>gender</th>\n",
              "      <th>dob</th>\n",
              "      <th>commune</th>\n",
              "      <th>Application_date</th>\n",
              "      <th>modified_at</th>\n",
              "      <th>department</th>\n",
              "      <th>education_level</th>\n",
              "      <th>university</th>\n",
              "      <th>study_domain</th>\n",
              "      <th>current_employed</th>\n",
              "      <th>formal_sector_job</th>\n",
              "      <th>have_computer_home</th>\n",
              "      <th>internet_at_home</th>\n",
              "      <th>hear_AA_1</th>\n",
              "      <th>after_AA</th>\n",
              "      <th>quest_id</th>\n",
              "      <th>Unnamed: 0_y</th>\n",
              "      <th>Enroll_Date</th>\n",
              "      <th>expiry_date</th>\n",
              "      <th>user_id</th>\n",
              "      <th>course_name</th>\n",
              "      <th>course_id</th>\n",
              "      <th>percentage_completed</th>\n",
              "      <th>completed_at</th>\n",
              "      <th>expired</th>\n",
              "      <th>is_free_trial</th>\n",
              "      <th>completed</th>\n",
              "      <th>started_at</th>\n",
              "      <th>activated_at</th>\n",
              "      <th>updated_at</th>\n",
              "    </tr>\n",
              "  </thead>\n",
              "  <tbody>\n",
              "    <tr>\n",
              "      <th>0</th>\n",
              "      <td>0</td>\n",
              "      <td>male</td>\n",
              "      <td>25/08/1998</td>\n",
              "      <td>HT0111</td>\n",
              "      <td>2021-02-14T23:03:52.768400Z</td>\n",
              "      <td>2021-02-14T23:03:52.768462Z</td>\n",
              "      <td>NAN</td>\n",
              "      <td>unknown</td>\n",
              "      <td>unknown</td>\n",
              "      <td>[]</td>\n",
              "      <td>unknown</td>\n",
              "      <td>unknown</td>\n",
              "      <td>unknown</td>\n",
              "      <td>unknown</td>\n",
              "      <td>unknown</td>\n",
              "      <td>unknown</td>\n",
              "      <td>905dc006-ce95-11eb-b2f9-7c67a234f601</td>\n",
              "      <td>17.0</td>\n",
              "      <td>2021-02-14T23:15:19.500Z</td>\n",
              "      <td>NaN</td>\n",
              "      <td>39726355.0</td>\n",
              "      <td>Entwodiksyon Nan Syans Done</td>\n",
              "      <td>1047613.0</td>\n",
              "      <td>0.0</td>\n",
              "      <td>NaN</td>\n",
              "      <td>False</td>\n",
              "      <td>True</td>\n",
              "      <td>False</td>\n",
              "      <td>2021-02-17T08:43:53.457Z</td>\n",
              "      <td>NaN</td>\n",
              "      <td>2021-02-17T08:44:09.561Z</td>\n",
              "    </tr>\n",
              "    <tr>\n",
              "      <th>1</th>\n",
              "      <td>1</td>\n",
              "      <td>female</td>\n",
              "      <td>29/09/1996</td>\n",
              "      <td>HT0111</td>\n",
              "      <td>2021-02-16T16:01:10.861844Z</td>\n",
              "      <td>2021-02-16T16:01:10.861899Z</td>\n",
              "      <td>HT01</td>\n",
              "      <td>Bachelors (bacc +4)</td>\n",
              "      <td>other</td>\n",
              "      <td>['other']</td>\n",
              "      <td>No</td>\n",
              "      <td>unknown</td>\n",
              "      <td>Yes</td>\n",
              "      <td>Yes</td>\n",
              "      <td>Friend</td>\n",
              "      <td>Finding a job/internship</td>\n",
              "      <td>905ddcf2-ce95-11eb-9a92-7c67a234f601</td>\n",
              "      <td>NaN</td>\n",
              "      <td>NaN</td>\n",
              "      <td>NaN</td>\n",
              "      <td>NaN</td>\n",
              "      <td>NaN</td>\n",
              "      <td>NaN</td>\n",
              "      <td>NaN</td>\n",
              "      <td>NaN</td>\n",
              "      <td>NaN</td>\n",
              "      <td>NaN</td>\n",
              "      <td>NaN</td>\n",
              "      <td>NaN</td>\n",
              "      <td>NaN</td>\n",
              "      <td>NaN</td>\n",
              "    </tr>\n",
              "  </tbody>\n",
              "</table>\n",
              "</div>"
            ],
            "text/plain": [
              "   Unnamed: 0_x  gender  ... activated_at                updated_at\n",
              "0             0    male  ...          NaN  2021-02-17T08:44:09.561Z\n",
              "1             1  female  ...          NaN                       NaN\n",
              "\n",
              "[2 rows x 31 columns]"
            ]
          },
          "metadata": {
            "tags": []
          },
          "execution_count": 101
        }
      ]
    },
    {
      "cell_type": "code",
      "metadata": {
        "colab": {
          "base_uri": "https://localhost:8080/",
          "height": 250
        },
        "id": "R6W3Ex7Z7roR",
        "outputId": "0d92e734-139e-4ad7-a653-5ba2a3206230"
      },
      "source": [
        "result1 = pd.merge(result,ord,how=\"left\",on=\"user_id\")\n",
        "result1.head(2)"
      ],
      "execution_count": null,
      "outputs": [
        {
          "output_type": "execute_result",
          "data": {
            "text/html": [
              "<div>\n",
              "<style scoped>\n",
              "    .dataframe tbody tr th:only-of-type {\n",
              "        vertical-align: middle;\n",
              "    }\n",
              "\n",
              "    .dataframe tbody tr th {\n",
              "        vertical-align: top;\n",
              "    }\n",
              "\n",
              "    .dataframe thead th {\n",
              "        text-align: right;\n",
              "    }\n",
              "</style>\n",
              "<table border=\"1\" class=\"dataframe\">\n",
              "  <thead>\n",
              "    <tr style=\"text-align: right;\">\n",
              "      <th></th>\n",
              "      <th>Unnamed: 0_x</th>\n",
              "      <th>gender</th>\n",
              "      <th>dob</th>\n",
              "      <th>commune</th>\n",
              "      <th>Application_date</th>\n",
              "      <th>modified_at</th>\n",
              "      <th>department</th>\n",
              "      <th>education_level</th>\n",
              "      <th>university</th>\n",
              "      <th>study_domain</th>\n",
              "      <th>current_employed</th>\n",
              "      <th>formal_sector_job</th>\n",
              "      <th>have_computer_home</th>\n",
              "      <th>internet_at_home</th>\n",
              "      <th>hear_AA_1</th>\n",
              "      <th>after_AA</th>\n",
              "      <th>quest_id_x</th>\n",
              "      <th>Unnamed: 0_y</th>\n",
              "      <th>Enroll_Date</th>\n",
              "      <th>expiry_date</th>\n",
              "      <th>user_id</th>\n",
              "      <th>course_name</th>\n",
              "      <th>course_id</th>\n",
              "      <th>percentage_completed</th>\n",
              "      <th>completed_at</th>\n",
              "      <th>expired</th>\n",
              "      <th>is_free_trial</th>\n",
              "      <th>completed</th>\n",
              "      <th>started_at</th>\n",
              "      <th>activated_at</th>\n",
              "      <th>updated_at</th>\n",
              "      <th>Unnamed: 0</th>\n",
              "      <th>credit_card_date</th>\n",
              "      <th>product_name</th>\n",
              "      <th>product_id</th>\n",
              "      <th>amount_dollars</th>\n",
              "      <th>amount_cents</th>\n",
              "      <th>subscription</th>\n",
              "      <th>coupon_code</th>\n",
              "      <th>coupon_id</th>\n",
              "      <th>affiliate_referral_code</th>\n",
              "      <th>status</th>\n",
              "      <th>quest_id_y</th>\n",
              "    </tr>\n",
              "  </thead>\n",
              "  <tbody>\n",
              "    <tr>\n",
              "      <th>0</th>\n",
              "      <td>0</td>\n",
              "      <td>male</td>\n",
              "      <td>25/08/1998</td>\n",
              "      <td>HT0111</td>\n",
              "      <td>2021-02-14T23:03:52.768400Z</td>\n",
              "      <td>2021-02-14T23:03:52.768462Z</td>\n",
              "      <td>NAN</td>\n",
              "      <td>unknown</td>\n",
              "      <td>unknown</td>\n",
              "      <td>[]</td>\n",
              "      <td>unknown</td>\n",
              "      <td>unknown</td>\n",
              "      <td>unknown</td>\n",
              "      <td>unknown</td>\n",
              "      <td>unknown</td>\n",
              "      <td>unknown</td>\n",
              "      <td>905dc006-ce95-11eb-b2f9-7c67a234f601</td>\n",
              "      <td>17.0</td>\n",
              "      <td>2021-02-14T23:15:19.500Z</td>\n",
              "      <td>NaN</td>\n",
              "      <td>39726355.0</td>\n",
              "      <td>Entwodiksyon Nan Syans Done</td>\n",
              "      <td>1047613.0</td>\n",
              "      <td>0.0</td>\n",
              "      <td>NaN</td>\n",
              "      <td>False</td>\n",
              "      <td>True</td>\n",
              "      <td>False</td>\n",
              "      <td>2021-02-17T08:43:53.457Z</td>\n",
              "      <td>NaN</td>\n",
              "      <td>2021-02-17T08:44:09.561Z</td>\n",
              "      <td>NaN</td>\n",
              "      <td>NaN</td>\n",
              "      <td>NaN</td>\n",
              "      <td>NaN</td>\n",
              "      <td>NaN</td>\n",
              "      <td>NaN</td>\n",
              "      <td>NaN</td>\n",
              "      <td>NaN</td>\n",
              "      <td>NaN</td>\n",
              "      <td>NaN</td>\n",
              "      <td>NaN</td>\n",
              "      <td>NaN</td>\n",
              "    </tr>\n",
              "    <tr>\n",
              "      <th>1</th>\n",
              "      <td>1</td>\n",
              "      <td>female</td>\n",
              "      <td>29/09/1996</td>\n",
              "      <td>HT0111</td>\n",
              "      <td>2021-02-16T16:01:10.861844Z</td>\n",
              "      <td>2021-02-16T16:01:10.861899Z</td>\n",
              "      <td>HT01</td>\n",
              "      <td>Bachelors (bacc +4)</td>\n",
              "      <td>other</td>\n",
              "      <td>['other']</td>\n",
              "      <td>No</td>\n",
              "      <td>unknown</td>\n",
              "      <td>Yes</td>\n",
              "      <td>Yes</td>\n",
              "      <td>Friend</td>\n",
              "      <td>Finding a job/internship</td>\n",
              "      <td>905ddcf2-ce95-11eb-9a92-7c67a234f601</td>\n",
              "      <td>NaN</td>\n",
              "      <td>NaN</td>\n",
              "      <td>NaN</td>\n",
              "      <td>NaN</td>\n",
              "      <td>NaN</td>\n",
              "      <td>NaN</td>\n",
              "      <td>NaN</td>\n",
              "      <td>NaN</td>\n",
              "      <td>NaN</td>\n",
              "      <td>NaN</td>\n",
              "      <td>NaN</td>\n",
              "      <td>NaN</td>\n",
              "      <td>NaN</td>\n",
              "      <td>NaN</td>\n",
              "      <td>NaN</td>\n",
              "      <td>NaN</td>\n",
              "      <td>NaN</td>\n",
              "      <td>NaN</td>\n",
              "      <td>NaN</td>\n",
              "      <td>NaN</td>\n",
              "      <td>NaN</td>\n",
              "      <td>NaN</td>\n",
              "      <td>NaN</td>\n",
              "      <td>NaN</td>\n",
              "      <td>NaN</td>\n",
              "      <td>NaN</td>\n",
              "    </tr>\n",
              "  </tbody>\n",
              "</table>\n",
              "</div>"
            ],
            "text/plain": [
              "   Unnamed: 0_x  gender         dob  ... affiliate_referral_code status quest_id_y\n",
              "0             0    male  25/08/1998  ...                     NaN    NaN        NaN\n",
              "1             1  female  29/09/1996  ...                     NaN    NaN        NaN\n",
              "\n",
              "[2 rows x 43 columns]"
            ]
          },
          "metadata": {
            "tags": []
          },
          "execution_count": 102
        }
      ]
    },
    {
      "cell_type": "code",
      "metadata": {
        "colab": {
          "base_uri": "https://localhost:8080/",
          "height": 250
        },
        "id": "Xoo7Pi9F786Y",
        "outputId": "cef6f685-2173-42bf-dd34-cc6e0b05ede1"
      },
      "source": [
        "result2 = pd.merge(result1,transaction,how=\"left\",on=\"user_id\")\n",
        "result2.head(2)"
      ],
      "execution_count": null,
      "outputs": [
        {
          "output_type": "execute_result",
          "data": {
            "text/html": [
              "<div>\n",
              "<style scoped>\n",
              "    .dataframe tbody tr th:only-of-type {\n",
              "        vertical-align: middle;\n",
              "    }\n",
              "\n",
              "    .dataframe tbody tr th {\n",
              "        vertical-align: top;\n",
              "    }\n",
              "\n",
              "    .dataframe thead th {\n",
              "        text-align: right;\n",
              "    }\n",
              "</style>\n",
              "<table border=\"1\" class=\"dataframe\">\n",
              "  <thead>\n",
              "    <tr style=\"text-align: right;\">\n",
              "      <th></th>\n",
              "      <th>Unnamed: 0_x</th>\n",
              "      <th>gender</th>\n",
              "      <th>dob</th>\n",
              "      <th>commune</th>\n",
              "      <th>Application_date</th>\n",
              "      <th>modified_at_x</th>\n",
              "      <th>department</th>\n",
              "      <th>education_level</th>\n",
              "      <th>university</th>\n",
              "      <th>study_domain</th>\n",
              "      <th>current_employed</th>\n",
              "      <th>formal_sector_job</th>\n",
              "      <th>have_computer_home</th>\n",
              "      <th>internet_at_home</th>\n",
              "      <th>hear_AA_1</th>\n",
              "      <th>after_AA</th>\n",
              "      <th>quest_id_x</th>\n",
              "      <th>Unnamed: 0_y</th>\n",
              "      <th>Enroll_Date</th>\n",
              "      <th>expiry_date</th>\n",
              "      <th>user_id</th>\n",
              "      <th>course_name</th>\n",
              "      <th>course_id_x</th>\n",
              "      <th>percentage_completed</th>\n",
              "      <th>completed_at</th>\n",
              "      <th>expired</th>\n",
              "      <th>is_free_trial</th>\n",
              "      <th>completed</th>\n",
              "      <th>started_at</th>\n",
              "      <th>activated_at</th>\n",
              "      <th>updated_at</th>\n",
              "      <th>Unnamed: 0_x</th>\n",
              "      <th>credit_card_date</th>\n",
              "      <th>product_name</th>\n",
              "      <th>product_id</th>\n",
              "      <th>amount_dollars</th>\n",
              "      <th>amount_cents</th>\n",
              "      <th>subscription</th>\n",
              "      <th>coupon_code</th>\n",
              "      <th>coupon_id</th>\n",
              "      <th>affiliate_referral_code</th>\n",
              "      <th>status</th>\n",
              "      <th>quest_id_y</th>\n",
              "      <th>Unnamed: 0_y</th>\n",
              "      <th>moncash_date</th>\n",
              "      <th>modified_at_y</th>\n",
              "      <th>course_id_y</th>\n",
              "      <th>transaction_id</th>\n",
              "    </tr>\n",
              "  </thead>\n",
              "  <tbody>\n",
              "    <tr>\n",
              "      <th>0</th>\n",
              "      <td>0</td>\n",
              "      <td>male</td>\n",
              "      <td>25/08/1998</td>\n",
              "      <td>HT0111</td>\n",
              "      <td>2021-02-14T23:03:52.768400Z</td>\n",
              "      <td>2021-02-14T23:03:52.768462Z</td>\n",
              "      <td>NAN</td>\n",
              "      <td>unknown</td>\n",
              "      <td>unknown</td>\n",
              "      <td>[]</td>\n",
              "      <td>unknown</td>\n",
              "      <td>unknown</td>\n",
              "      <td>unknown</td>\n",
              "      <td>unknown</td>\n",
              "      <td>unknown</td>\n",
              "      <td>unknown</td>\n",
              "      <td>905dc006-ce95-11eb-b2f9-7c67a234f601</td>\n",
              "      <td>17.0</td>\n",
              "      <td>2021-02-14T23:15:19.500Z</td>\n",
              "      <td>NaN</td>\n",
              "      <td>39726355.0</td>\n",
              "      <td>Entwodiksyon Nan Syans Done</td>\n",
              "      <td>1047613.0</td>\n",
              "      <td>0.0</td>\n",
              "      <td>NaN</td>\n",
              "      <td>False</td>\n",
              "      <td>True</td>\n",
              "      <td>False</td>\n",
              "      <td>2021-02-17T08:43:53.457Z</td>\n",
              "      <td>NaN</td>\n",
              "      <td>2021-02-17T08:44:09.561Z</td>\n",
              "      <td>NaN</td>\n",
              "      <td>NaN</td>\n",
              "      <td>NaN</td>\n",
              "      <td>NaN</td>\n",
              "      <td>NaN</td>\n",
              "      <td>NaN</td>\n",
              "      <td>NaN</td>\n",
              "      <td>NaN</td>\n",
              "      <td>NaN</td>\n",
              "      <td>NaN</td>\n",
              "      <td>NaN</td>\n",
              "      <td>NaN</td>\n",
              "      <td>NaN</td>\n",
              "      <td>NaN</td>\n",
              "      <td>NaN</td>\n",
              "      <td>NaN</td>\n",
              "      <td>NaN</td>\n",
              "    </tr>\n",
              "    <tr>\n",
              "      <th>1</th>\n",
              "      <td>1</td>\n",
              "      <td>female</td>\n",
              "      <td>29/09/1996</td>\n",
              "      <td>HT0111</td>\n",
              "      <td>2021-02-16T16:01:10.861844Z</td>\n",
              "      <td>2021-02-16T16:01:10.861899Z</td>\n",
              "      <td>HT01</td>\n",
              "      <td>Bachelors (bacc +4)</td>\n",
              "      <td>other</td>\n",
              "      <td>['other']</td>\n",
              "      <td>No</td>\n",
              "      <td>unknown</td>\n",
              "      <td>Yes</td>\n",
              "      <td>Yes</td>\n",
              "      <td>Friend</td>\n",
              "      <td>Finding a job/internship</td>\n",
              "      <td>905ddcf2-ce95-11eb-9a92-7c67a234f601</td>\n",
              "      <td>NaN</td>\n",
              "      <td>NaN</td>\n",
              "      <td>NaN</td>\n",
              "      <td>NaN</td>\n",
              "      <td>NaN</td>\n",
              "      <td>NaN</td>\n",
              "      <td>NaN</td>\n",
              "      <td>NaN</td>\n",
              "      <td>NaN</td>\n",
              "      <td>NaN</td>\n",
              "      <td>NaN</td>\n",
              "      <td>NaN</td>\n",
              "      <td>NaN</td>\n",
              "      <td>NaN</td>\n",
              "      <td>NaN</td>\n",
              "      <td>NaN</td>\n",
              "      <td>NaN</td>\n",
              "      <td>NaN</td>\n",
              "      <td>NaN</td>\n",
              "      <td>NaN</td>\n",
              "      <td>NaN</td>\n",
              "      <td>NaN</td>\n",
              "      <td>NaN</td>\n",
              "      <td>NaN</td>\n",
              "      <td>NaN</td>\n",
              "      <td>NaN</td>\n",
              "      <td>NaN</td>\n",
              "      <td>NaN</td>\n",
              "      <td>NaN</td>\n",
              "      <td>NaN</td>\n",
              "      <td>NaN</td>\n",
              "    </tr>\n",
              "  </tbody>\n",
              "</table>\n",
              "</div>"
            ],
            "text/plain": [
              "   Unnamed: 0_x  gender         dob  ... modified_at_y course_id_y transaction_id\n",
              "0             0    male  25/08/1998  ...           NaN         NaN            NaN\n",
              "1             1  female  29/09/1996  ...           NaN         NaN            NaN\n",
              "\n",
              "[2 rows x 48 columns]"
            ]
          },
          "metadata": {
            "tags": []
          },
          "execution_count": 103
        }
      ]
    },
    {
      "cell_type": "code",
      "metadata": {
        "colab": {
          "base_uri": "https://localhost:8080/",
          "height": 250
        },
        "id": "aso4RH1W79AZ",
        "outputId": "718e8b02-c51c-4adc-d740-e42127aa1f58"
      },
      "source": [
        " # create columns named \"is_enroll\"\n",
        "result2[\"is_enroll\"] = 'No'\n",
        "result2.loc[~result2.Enroll_Date.isna(),[\"is_enroll\"]] =\"Yes\"\n",
        "result2.head(2)"
      ],
      "execution_count": null,
      "outputs": [
        {
          "output_type": "execute_result",
          "data": {
            "text/html": [
              "<div>\n",
              "<style scoped>\n",
              "    .dataframe tbody tr th:only-of-type {\n",
              "        vertical-align: middle;\n",
              "    }\n",
              "\n",
              "    .dataframe tbody tr th {\n",
              "        vertical-align: top;\n",
              "    }\n",
              "\n",
              "    .dataframe thead th {\n",
              "        text-align: right;\n",
              "    }\n",
              "</style>\n",
              "<table border=\"1\" class=\"dataframe\">\n",
              "  <thead>\n",
              "    <tr style=\"text-align: right;\">\n",
              "      <th></th>\n",
              "      <th>Unnamed: 0_x</th>\n",
              "      <th>gender</th>\n",
              "      <th>dob</th>\n",
              "      <th>commune</th>\n",
              "      <th>Application_date</th>\n",
              "      <th>modified_at_x</th>\n",
              "      <th>department</th>\n",
              "      <th>education_level</th>\n",
              "      <th>university</th>\n",
              "      <th>study_domain</th>\n",
              "      <th>current_employed</th>\n",
              "      <th>formal_sector_job</th>\n",
              "      <th>have_computer_home</th>\n",
              "      <th>internet_at_home</th>\n",
              "      <th>hear_AA_1</th>\n",
              "      <th>after_AA</th>\n",
              "      <th>quest_id_x</th>\n",
              "      <th>Unnamed: 0_y</th>\n",
              "      <th>Enroll_Date</th>\n",
              "      <th>expiry_date</th>\n",
              "      <th>user_id</th>\n",
              "      <th>course_name</th>\n",
              "      <th>course_id_x</th>\n",
              "      <th>percentage_completed</th>\n",
              "      <th>completed_at</th>\n",
              "      <th>expired</th>\n",
              "      <th>is_free_trial</th>\n",
              "      <th>completed</th>\n",
              "      <th>started_at</th>\n",
              "      <th>activated_at</th>\n",
              "      <th>updated_at</th>\n",
              "      <th>Unnamed: 0_x</th>\n",
              "      <th>credit_card_date</th>\n",
              "      <th>product_name</th>\n",
              "      <th>product_id</th>\n",
              "      <th>amount_dollars</th>\n",
              "      <th>amount_cents</th>\n",
              "      <th>subscription</th>\n",
              "      <th>coupon_code</th>\n",
              "      <th>coupon_id</th>\n",
              "      <th>affiliate_referral_code</th>\n",
              "      <th>status</th>\n",
              "      <th>quest_id_y</th>\n",
              "      <th>Unnamed: 0_y</th>\n",
              "      <th>moncash_date</th>\n",
              "      <th>modified_at_y</th>\n",
              "      <th>course_id_y</th>\n",
              "      <th>transaction_id</th>\n",
              "      <th>is_enroll</th>\n",
              "    </tr>\n",
              "  </thead>\n",
              "  <tbody>\n",
              "    <tr>\n",
              "      <th>0</th>\n",
              "      <td>0</td>\n",
              "      <td>male</td>\n",
              "      <td>25/08/1998</td>\n",
              "      <td>HT0111</td>\n",
              "      <td>2021-02-14T23:03:52.768400Z</td>\n",
              "      <td>2021-02-14T23:03:52.768462Z</td>\n",
              "      <td>NAN</td>\n",
              "      <td>unknown</td>\n",
              "      <td>unknown</td>\n",
              "      <td>[]</td>\n",
              "      <td>unknown</td>\n",
              "      <td>unknown</td>\n",
              "      <td>unknown</td>\n",
              "      <td>unknown</td>\n",
              "      <td>unknown</td>\n",
              "      <td>unknown</td>\n",
              "      <td>905dc006-ce95-11eb-b2f9-7c67a234f601</td>\n",
              "      <td>17.0</td>\n",
              "      <td>2021-02-14T23:15:19.500Z</td>\n",
              "      <td>NaN</td>\n",
              "      <td>39726355.0</td>\n",
              "      <td>Entwodiksyon Nan Syans Done</td>\n",
              "      <td>1047613.0</td>\n",
              "      <td>0.0</td>\n",
              "      <td>NaN</td>\n",
              "      <td>False</td>\n",
              "      <td>True</td>\n",
              "      <td>False</td>\n",
              "      <td>2021-02-17T08:43:53.457Z</td>\n",
              "      <td>NaN</td>\n",
              "      <td>2021-02-17T08:44:09.561Z</td>\n",
              "      <td>NaN</td>\n",
              "      <td>NaN</td>\n",
              "      <td>NaN</td>\n",
              "      <td>NaN</td>\n",
              "      <td>NaN</td>\n",
              "      <td>NaN</td>\n",
              "      <td>NaN</td>\n",
              "      <td>NaN</td>\n",
              "      <td>NaN</td>\n",
              "      <td>NaN</td>\n",
              "      <td>NaN</td>\n",
              "      <td>NaN</td>\n",
              "      <td>NaN</td>\n",
              "      <td>NaN</td>\n",
              "      <td>NaN</td>\n",
              "      <td>NaN</td>\n",
              "      <td>NaN</td>\n",
              "      <td>Yes</td>\n",
              "    </tr>\n",
              "    <tr>\n",
              "      <th>1</th>\n",
              "      <td>1</td>\n",
              "      <td>female</td>\n",
              "      <td>29/09/1996</td>\n",
              "      <td>HT0111</td>\n",
              "      <td>2021-02-16T16:01:10.861844Z</td>\n",
              "      <td>2021-02-16T16:01:10.861899Z</td>\n",
              "      <td>HT01</td>\n",
              "      <td>Bachelors (bacc +4)</td>\n",
              "      <td>other</td>\n",
              "      <td>['other']</td>\n",
              "      <td>No</td>\n",
              "      <td>unknown</td>\n",
              "      <td>Yes</td>\n",
              "      <td>Yes</td>\n",
              "      <td>Friend</td>\n",
              "      <td>Finding a job/internship</td>\n",
              "      <td>905ddcf2-ce95-11eb-9a92-7c67a234f601</td>\n",
              "      <td>NaN</td>\n",
              "      <td>NaN</td>\n",
              "      <td>NaN</td>\n",
              "      <td>NaN</td>\n",
              "      <td>NaN</td>\n",
              "      <td>NaN</td>\n",
              "      <td>NaN</td>\n",
              "      <td>NaN</td>\n",
              "      <td>NaN</td>\n",
              "      <td>NaN</td>\n",
              "      <td>NaN</td>\n",
              "      <td>NaN</td>\n",
              "      <td>NaN</td>\n",
              "      <td>NaN</td>\n",
              "      <td>NaN</td>\n",
              "      <td>NaN</td>\n",
              "      <td>NaN</td>\n",
              "      <td>NaN</td>\n",
              "      <td>NaN</td>\n",
              "      <td>NaN</td>\n",
              "      <td>NaN</td>\n",
              "      <td>NaN</td>\n",
              "      <td>NaN</td>\n",
              "      <td>NaN</td>\n",
              "      <td>NaN</td>\n",
              "      <td>NaN</td>\n",
              "      <td>NaN</td>\n",
              "      <td>NaN</td>\n",
              "      <td>NaN</td>\n",
              "      <td>NaN</td>\n",
              "      <td>NaN</td>\n",
              "      <td>No</td>\n",
              "    </tr>\n",
              "  </tbody>\n",
              "</table>\n",
              "</div>"
            ],
            "text/plain": [
              "   Unnamed: 0_x  gender         dob  ... course_id_y transaction_id is_enroll\n",
              "0             0    male  25/08/1998  ...         NaN            NaN       Yes\n",
              "1             1  female  29/09/1996  ...         NaN            NaN        No\n",
              "\n",
              "[2 rows x 49 columns]"
            ]
          },
          "metadata": {
            "tags": []
          },
          "execution_count": 104
        }
      ]
    },
    {
      "cell_type": "code",
      "metadata": {
        "colab": {
          "base_uri": "https://localhost:8080/",
          "height": 250
        },
        "id": "ymgYOQ9Y79bp",
        "outputId": "7435a936-95f6-4e5b-f945-2662d7fd61f6"
      },
      "source": [
        "# create columns named \"payed\"\n",
        "result2[\"payed\"] = 'No'\n",
        "result2.loc[~(result2.credit_card_date.isna() & result2.moncash_date.isna()),[\"payed\"]] =\"Yes\"\n",
        "result2.head(2)"
      ],
      "execution_count": null,
      "outputs": [
        {
          "output_type": "execute_result",
          "data": {
            "text/html": [
              "<div>\n",
              "<style scoped>\n",
              "    .dataframe tbody tr th:only-of-type {\n",
              "        vertical-align: middle;\n",
              "    }\n",
              "\n",
              "    .dataframe tbody tr th {\n",
              "        vertical-align: top;\n",
              "    }\n",
              "\n",
              "    .dataframe thead th {\n",
              "        text-align: right;\n",
              "    }\n",
              "</style>\n",
              "<table border=\"1\" class=\"dataframe\">\n",
              "  <thead>\n",
              "    <tr style=\"text-align: right;\">\n",
              "      <th></th>\n",
              "      <th>Unnamed: 0_x</th>\n",
              "      <th>gender</th>\n",
              "      <th>dob</th>\n",
              "      <th>commune</th>\n",
              "      <th>Application_date</th>\n",
              "      <th>modified_at_x</th>\n",
              "      <th>department</th>\n",
              "      <th>education_level</th>\n",
              "      <th>university</th>\n",
              "      <th>study_domain</th>\n",
              "      <th>current_employed</th>\n",
              "      <th>formal_sector_job</th>\n",
              "      <th>have_computer_home</th>\n",
              "      <th>internet_at_home</th>\n",
              "      <th>hear_AA_1</th>\n",
              "      <th>after_AA</th>\n",
              "      <th>quest_id_x</th>\n",
              "      <th>Unnamed: 0_y</th>\n",
              "      <th>Enroll_Date</th>\n",
              "      <th>expiry_date</th>\n",
              "      <th>user_id</th>\n",
              "      <th>course_name</th>\n",
              "      <th>course_id_x</th>\n",
              "      <th>percentage_completed</th>\n",
              "      <th>completed_at</th>\n",
              "      <th>expired</th>\n",
              "      <th>is_free_trial</th>\n",
              "      <th>completed</th>\n",
              "      <th>started_at</th>\n",
              "      <th>activated_at</th>\n",
              "      <th>updated_at</th>\n",
              "      <th>Unnamed: 0_x</th>\n",
              "      <th>credit_card_date</th>\n",
              "      <th>product_name</th>\n",
              "      <th>product_id</th>\n",
              "      <th>amount_dollars</th>\n",
              "      <th>amount_cents</th>\n",
              "      <th>subscription</th>\n",
              "      <th>coupon_code</th>\n",
              "      <th>coupon_id</th>\n",
              "      <th>affiliate_referral_code</th>\n",
              "      <th>status</th>\n",
              "      <th>quest_id_y</th>\n",
              "      <th>Unnamed: 0_y</th>\n",
              "      <th>moncash_date</th>\n",
              "      <th>modified_at_y</th>\n",
              "      <th>course_id_y</th>\n",
              "      <th>transaction_id</th>\n",
              "      <th>is_enroll</th>\n",
              "      <th>payed</th>\n",
              "    </tr>\n",
              "  </thead>\n",
              "  <tbody>\n",
              "    <tr>\n",
              "      <th>0</th>\n",
              "      <td>0</td>\n",
              "      <td>male</td>\n",
              "      <td>25/08/1998</td>\n",
              "      <td>HT0111</td>\n",
              "      <td>2021-02-14T23:03:52.768400Z</td>\n",
              "      <td>2021-02-14T23:03:52.768462Z</td>\n",
              "      <td>NAN</td>\n",
              "      <td>unknown</td>\n",
              "      <td>unknown</td>\n",
              "      <td>[]</td>\n",
              "      <td>unknown</td>\n",
              "      <td>unknown</td>\n",
              "      <td>unknown</td>\n",
              "      <td>unknown</td>\n",
              "      <td>unknown</td>\n",
              "      <td>unknown</td>\n",
              "      <td>905dc006-ce95-11eb-b2f9-7c67a234f601</td>\n",
              "      <td>17.0</td>\n",
              "      <td>2021-02-14T23:15:19.500Z</td>\n",
              "      <td>NaN</td>\n",
              "      <td>39726355.0</td>\n",
              "      <td>Entwodiksyon Nan Syans Done</td>\n",
              "      <td>1047613.0</td>\n",
              "      <td>0.0</td>\n",
              "      <td>NaN</td>\n",
              "      <td>False</td>\n",
              "      <td>True</td>\n",
              "      <td>False</td>\n",
              "      <td>2021-02-17T08:43:53.457Z</td>\n",
              "      <td>NaN</td>\n",
              "      <td>2021-02-17T08:44:09.561Z</td>\n",
              "      <td>NaN</td>\n",
              "      <td>NaN</td>\n",
              "      <td>NaN</td>\n",
              "      <td>NaN</td>\n",
              "      <td>NaN</td>\n",
              "      <td>NaN</td>\n",
              "      <td>NaN</td>\n",
              "      <td>NaN</td>\n",
              "      <td>NaN</td>\n",
              "      <td>NaN</td>\n",
              "      <td>NaN</td>\n",
              "      <td>NaN</td>\n",
              "      <td>NaN</td>\n",
              "      <td>NaN</td>\n",
              "      <td>NaN</td>\n",
              "      <td>NaN</td>\n",
              "      <td>NaN</td>\n",
              "      <td>Yes</td>\n",
              "      <td>No</td>\n",
              "    </tr>\n",
              "    <tr>\n",
              "      <th>1</th>\n",
              "      <td>1</td>\n",
              "      <td>female</td>\n",
              "      <td>29/09/1996</td>\n",
              "      <td>HT0111</td>\n",
              "      <td>2021-02-16T16:01:10.861844Z</td>\n",
              "      <td>2021-02-16T16:01:10.861899Z</td>\n",
              "      <td>HT01</td>\n",
              "      <td>Bachelors (bacc +4)</td>\n",
              "      <td>other</td>\n",
              "      <td>['other']</td>\n",
              "      <td>No</td>\n",
              "      <td>unknown</td>\n",
              "      <td>Yes</td>\n",
              "      <td>Yes</td>\n",
              "      <td>Friend</td>\n",
              "      <td>Finding a job/internship</td>\n",
              "      <td>905ddcf2-ce95-11eb-9a92-7c67a234f601</td>\n",
              "      <td>NaN</td>\n",
              "      <td>NaN</td>\n",
              "      <td>NaN</td>\n",
              "      <td>NaN</td>\n",
              "      <td>NaN</td>\n",
              "      <td>NaN</td>\n",
              "      <td>NaN</td>\n",
              "      <td>NaN</td>\n",
              "      <td>NaN</td>\n",
              "      <td>NaN</td>\n",
              "      <td>NaN</td>\n",
              "      <td>NaN</td>\n",
              "      <td>NaN</td>\n",
              "      <td>NaN</td>\n",
              "      <td>NaN</td>\n",
              "      <td>NaN</td>\n",
              "      <td>NaN</td>\n",
              "      <td>NaN</td>\n",
              "      <td>NaN</td>\n",
              "      <td>NaN</td>\n",
              "      <td>NaN</td>\n",
              "      <td>NaN</td>\n",
              "      <td>NaN</td>\n",
              "      <td>NaN</td>\n",
              "      <td>NaN</td>\n",
              "      <td>NaN</td>\n",
              "      <td>NaN</td>\n",
              "      <td>NaN</td>\n",
              "      <td>NaN</td>\n",
              "      <td>NaN</td>\n",
              "      <td>NaN</td>\n",
              "      <td>No</td>\n",
              "      <td>No</td>\n",
              "    </tr>\n",
              "  </tbody>\n",
              "</table>\n",
              "</div>"
            ],
            "text/plain": [
              "   Unnamed: 0_x  gender         dob  ... transaction_id is_enroll payed\n",
              "0             0    male  25/08/1998  ...            NaN       Yes    No\n",
              "1             1  female  29/09/1996  ...            NaN        No    No\n",
              "\n",
              "[2 rows x 50 columns]"
            ]
          },
          "metadata": {
            "tags": []
          },
          "execution_count": 105
        }
      ]
    },
    {
      "cell_type": "code",
      "metadata": {
        "id": "v5DXtWr0H_i-"
      },
      "source": [
        "#rename columns quest_id_x in result2 file\n",
        "result2.rename(columns={\"quest_id_x\":\"quest_id\"}, inplace=True)"
      ],
      "execution_count": null,
      "outputs": []
    },
    {
      "cell_type": "code",
      "metadata": {
        "id": "ECXDNFh7Iq1u"
      },
      "source": [
        "# merge tables on \"quest_id\"\n",
        "result3=pd.merge(result2,study_domain2, how = 'left',on='quest_id')"
      ],
      "execution_count": null,
      "outputs": []
    },
    {
      "cell_type": "code",
      "metadata": {
        "id": "LZqyKJglH_md"
      },
      "source": [
        "#Merge tables\n",
        "result4=pd.merge(result3,technology2, how = 'left',on='quest_id')"
      ],
      "execution_count": null,
      "outputs": []
    },
    {
      "cell_type": "code",
      "metadata": {
        "id": "iytanfceH_p2"
      },
      "source": [
        "# Merge tables\n",
        "result4=pd.merge(result3,technology2, how = 'left',on='quest_id')"
      ],
      "execution_count": null,
      "outputs": []
    },
    {
      "cell_type": "code",
      "metadata": {
        "id": "sMeqSjkiH_tM"
      },
      "source": [
        "# Merge tables\n",
        "result5=pd.merge(result4,industry2, how = 'left',on='quest_id')"
      ],
      "execution_count": null,
      "outputs": []
    },
    {
      "cell_type": "code",
      "metadata": {
        "id": "X4sEBgMHH_wW"
      },
      "source": [
        " # Merge Result4 and Commune\n",
        "result6=pd.merge(result4,commune[[\"Commune_FR\",\"Departement\", \"commune\"]], how = 'left',on='commune')"
      ],
      "execution_count": null,
      "outputs": []
    },
    {
      "cell_type": "code",
      "metadata": {
        "colab": {
          "base_uri": "https://localhost:8080/"
        },
        "id": "c-gNKE49KzRF",
        "outputId": "bb4c4b75-5cbb-4769-8045-f3ccf81e9a2a"
      },
      "source": [
        "print(result6.loc[result6[\"dob\"]==\"3 aout 1977\",:])"
      ],
      "execution_count": null,
      "outputs": [
        {
          "output_type": "stream",
          "text": [
            "    Unnamed: 0_x  gender          dob  ... other_y      Commune_FR Departement\n",
            "13            13  female  3 aout 1977  ...     0.0  Port-au-Prince        West\n",
            "\n",
            "[1 rows x 73 columns]\n"
          ],
          "name": "stdout"
        }
      ]
    },
    {
      "cell_type": "code",
      "metadata": {
        "colab": {
          "base_uri": "https://localhost:8080/"
        },
        "id": "1QayGZpMLght",
        "outputId": "b161c393-0263-47e3-c269-0f005c0ae0b0"
      },
      "source": [
        "result6.drop(result6.loc[result6['dob']==\"3 aout 1977\"].index, inplace=True)\n",
        "print(result6.loc[result6[\"dob\"]==\"3 aout 1977\",:])"
      ],
      "execution_count": null,
      "outputs": [
        {
          "output_type": "stream",
          "text": [
            "Empty DataFrame\n",
            "Columns: [Unnamed: 0_x, gender, dob, commune, Application_date, modified_at_x, department, education_level, university, study_domain, current_employed, formal_sector_job, have_computer_home, internet_at_home, hear_AA_1, after_AA, quest_id, Unnamed: 0_y, Enroll_Date, expiry_date, user_id, course_name, course_id_x, percentage_completed, completed_at, expired, is_free_trial, completed, started_at, activated_at, updated_at, Unnamed: 0_x, credit_card_date, product_name, product_id, amount_dollars, amount_cents, subscription, coupon_code, coupon_id, affiliate_referral_code, status, quest_id_y, Unnamed: 0_y, moncash_date, modified_at_y, course_id_y, transaction_id, is_enroll, payed, Accounting, Computer Science, Economics, Electrical Engineering, Law, Management, Medicine, Statistics, other_x, Bash, Excel, Git, Java, JavaScript, PHP, PowerBI or Tableau, Python, R, SQL, VBA, other_y, Commune_FR, Departement]\n",
            "Index: []\n"
          ],
          "name": "stdout"
        }
      ]
    },
    {
      "cell_type": "code",
      "metadata": {
        "colab": {
          "base_uri": "https://localhost:8080/"
        },
        "id": "FlqwjuxPKemf",
        "outputId": "b83cf03e-c844-4742-de41-cf52605f653c"
      },
      "source": [
        "result6[\"Application_date\"]= pd.to_datetime(result6[\"Application_date\"])\n",
        "result6[\"Application_date\"] = result6[\"Application_date\"].apply(lambda x: str(x)[:10])\n",
        "result6[\"Application_date\"].head(6)"
      ],
      "execution_count": null,
      "outputs": [
        {
          "output_type": "execute_result",
          "data": {
            "text/plain": [
              "0    2021-02-14\n",
              "1    2021-02-16\n",
              "2    2021-02-16\n",
              "3    2021-02-16\n",
              "4    2021-02-16\n",
              "5    2021-02-16\n",
              "Name: Application_date, dtype: object"
            ]
          },
          "metadata": {
            "tags": []
          },
          "execution_count": 114
        }
      ]
    },
    {
      "cell_type": "code",
      "metadata": {
        "id": "HK5sqC-OZdoc"
      },
      "source": [
        "from datetime import date\n",
        "def Calculate_Age(born) :\n",
        "    \"\"\"\n",
        "    This function will allow us to calcute the age of all the applicants by the end of the application process\n",
        "    \"\"\"\n",
        "    today = date(2021,6,18)\n",
        "    return today.year - born.year - ((today.month,today.day)<(born.month,born.day))"
      ],
      "execution_count": null,
      "outputs": []
    },
    {
      "cell_type": "code",
      "metadata": {
        "colab": {
          "base_uri": "https://localhost:8080/"
        },
        "id": "F8eAv4IlKzUl",
        "outputId": "9e09c708-6f6b-40ea-d7f7-283ceff39e84"
      },
      "source": [
        "result6[\"dob\"]= pd.to_datetime(result6[\"dob\"])\n",
        "result6[\"dob\"].head(2)"
      ],
      "execution_count": null,
      "outputs": [
        {
          "output_type": "execute_result",
          "data": {
            "text/plain": [
              "0   1998-08-25\n",
              "1   1996-09-29\n",
              "Name: dob, dtype: datetime64[ns]"
            ]
          },
          "metadata": {
            "tags": []
          },
          "execution_count": 116
        }
      ]
    },
    {
      "cell_type": "code",
      "metadata": {
        "colab": {
          "base_uri": "https://localhost:8080/"
        },
        "id": "kD9RxhDYaEQR",
        "outputId": "3476f7ad-9d03-483f-98bd-6ac2ef2903d1"
      },
      "source": [
        "result6['age'] = result6['dob'].apply(Calculate_Age)\n",
        "result6['age']"
      ],
      "execution_count": null,
      "outputs": [
        {
          "output_type": "execute_result",
          "data": {
            "text/plain": [
              "0      22.0\n",
              "1      24.0\n",
              "2      25.0\n",
              "3      24.0\n",
              "4      23.0\n",
              "       ... \n",
              "245    27.0\n",
              "246    30.0\n",
              "247    27.0\n",
              "248    29.0\n",
              "249    27.0\n",
              "Name: age, Length: 249, dtype: float64"
            ]
          },
          "metadata": {
            "tags": []
          },
          "execution_count": 117
        }
      ]
    },
    {
      "cell_type": "code",
      "metadata": {
        "id": "ci6kVwCPX_nC"
      },
      "source": [
        "def converdate (data, column):\n",
        "    data[column] = pd.to_datetime(data[column], format ='%Y-%m-%d')\n",
        "    \n",
        "    return data"
      ],
      "execution_count": null,
      "outputs": []
    },
    {
      "cell_type": "code",
      "metadata": {
        "id": "mbA8hDfTcFf6"
      },
      "source": [
        "# Apply the function\n",
        "# converdate(result6, result6.moncash_date)"
      ],
      "execution_count": null,
      "outputs": []
    },
    {
      "cell_type": "code",
      "metadata": {
        "colab": {
          "base_uri": "https://localhost:8080/"
        },
        "id": "ctM3o7hVKzX5",
        "outputId": "a136f97e-0138-4887-8172-fc8314c24dbc"
      },
      "source": [
        "result6[\"credit_card_date\"]= pd.to_datetime(result6[\"credit_card_date\"])\n",
        "result6[\"credit_card_date\"] = result6[\"credit_card_date\"].apply(lambda x: str(x)[:10])\n",
        "result6[\"credit_card_date\"].tail(6)"
      ],
      "execution_count": null,
      "outputs": [
        {
          "output_type": "execute_result",
          "data": {
            "text/plain": [
              "244           NaT\n",
              "245           NaT\n",
              "246           NaT\n",
              "247    2021-03-14\n",
              "248           NaT\n",
              "249           NaT\n",
              "Name: credit_card_date, dtype: object"
            ]
          },
          "metadata": {
            "tags": []
          },
          "execution_count": 133
        }
      ]
    },
    {
      "cell_type": "code",
      "metadata": {
        "colab": {
          "base_uri": "https://localhost:8080/"
        },
        "id": "-mA3938BMsC9",
        "outputId": "046ebb39-796d-4b9f-fa43-018ef79c5874"
      },
      "source": [
        "result6[\"moncash_date\"]= pd.to_datetime(result6[\"moncash_date\"])\n",
        "result6[\"moncash_date\"] = result6[\"moncash_date\"].apply(lambda x: str(x)[:10])\n",
        "result6[\"moncash_date\"].tail(6)"
      ],
      "execution_count": null,
      "outputs": [
        {
          "output_type": "execute_result",
          "data": {
            "text/plain": [
              "244           NaT\n",
              "245    2021-03-02\n",
              "246           NaT\n",
              "247           NaT\n",
              "248    2021-03-08\n",
              "249    2021-03-14\n",
              "Name: moncash_date, dtype: object"
            ]
          },
          "metadata": {
            "tags": []
          },
          "execution_count": 134
        }
      ]
    },
    {
      "cell_type": "code",
      "metadata": {
        "id": "CT8S607jMsVb"
      },
      "source": [
        "#result6[\"Enroll_Date\"]= pd.to_datetime(result6[\"Enroll_Date\"])\n",
        "#result6[\"Enroll_Date\"] = result6[\"Enroll_Date\"].apply(lambda x: str(x)[:10])\n",
        "#result6[\"Enroll_Date\"].tail(6)"
      ],
      "execution_count": null,
      "outputs": []
    },
    {
      "cell_type": "code",
      "metadata": {
        "colab": {
          "base_uri": "https://localhost:8080/"
        },
        "id": "NMvy2e6GS1Tz",
        "outputId": "f10d289e-1b5c-4c29-a67d-1616c9fe525e"
      },
      "source": [
        "drop_col =  ['commune','Unnamed: 0_x', 'modified_at_x',  'study_domain','Unnamed: 0_y','expiry_date', 'user_id', 'course_name','course_id_x', 'percentage_completed','completed_at', 'expired', 'is_free_trial', 'completed', 'started_at', 'activated_at', 'updated_at', 'Unnamed: 0_x', 'product_name','product_id', 'amount_dollars', 'amount_cents', 'subscription','coupon_code', 'coupon_id', 'affiliate_referral_code', 'status','quest_id_y', 'Unnamed: 0_y', 'modified_at_y','course_id_y', 'transaction_id', 'modified_at_y','other_y', 'other_x', 'other_y','department']\n",
        "len(drop_col)"
      ],
      "execution_count": null,
      "outputs": [
        {
          "output_type": "execute_result",
          "data": {
            "text/plain": [
              "37"
            ]
          },
          "metadata": {
            "tags": []
          },
          "execution_count": 136
        }
      ]
    },
    {
      "cell_type": "code",
      "metadata": {
        "id": "Yo_xDpcUS1bO"
      },
      "source": [
        "result6.drop(drop_col, axis=\"columns\", inplace=True)"
      ],
      "execution_count": null,
      "outputs": []
    },
    {
      "cell_type": "code",
      "metadata": {
        "id": "EHzwhXEHV4KU",
        "colab": {
          "base_uri": "https://localhost:8080/",
          "height": 216
        },
        "outputId": "41a4e50b-35c8-475b-da59-17abb3312d56"
      },
      "source": [
        "# rename columns\n",
        "result6.rename(columns={\"hear_AA_1\":\"communication_channel\",'after_AA':\"Bootcamp_Interest\", \"hear_AA_1\":\"communication_channel\",'after_AA':\"Bootcamp_Interest\", \"Commune_FR\":\"commune\", \"PowerBI or Tableau\":\"PowerBI_Tableau\", \"quest_id\": \"Nbr_of_applicants\"}, inplace=True)\n",
        "data = result6\n",
        "data.head(2)"
      ],
      "execution_count": null,
      "outputs": [
        {
          "output_type": "execute_result",
          "data": {
            "text/html": [
              "<div>\n",
              "<style scoped>\n",
              "    .dataframe tbody tr th:only-of-type {\n",
              "        vertical-align: middle;\n",
              "    }\n",
              "\n",
              "    .dataframe tbody tr th {\n",
              "        vertical-align: top;\n",
              "    }\n",
              "\n",
              "    .dataframe thead th {\n",
              "        text-align: right;\n",
              "    }\n",
              "</style>\n",
              "<table border=\"1\" class=\"dataframe\">\n",
              "  <thead>\n",
              "    <tr style=\"text-align: right;\">\n",
              "      <th></th>\n",
              "      <th>gender</th>\n",
              "      <th>dob</th>\n",
              "      <th>Application_date</th>\n",
              "      <th>education_level</th>\n",
              "      <th>university</th>\n",
              "      <th>current_employed</th>\n",
              "      <th>formal_sector_job</th>\n",
              "      <th>have_computer_home</th>\n",
              "      <th>internet_at_home</th>\n",
              "      <th>communication_channel</th>\n",
              "      <th>Bootcamp_Interest</th>\n",
              "      <th>Nbr_of_applicants</th>\n",
              "      <th>Enroll_Date</th>\n",
              "      <th>credit_card_date</th>\n",
              "      <th>moncash_date</th>\n",
              "      <th>is_enroll</th>\n",
              "      <th>payed</th>\n",
              "      <th>Accounting</th>\n",
              "      <th>Computer Science</th>\n",
              "      <th>Economics</th>\n",
              "      <th>Electrical Engineering</th>\n",
              "      <th>Law</th>\n",
              "      <th>Management</th>\n",
              "      <th>Medicine</th>\n",
              "      <th>Statistics</th>\n",
              "      <th>Bash</th>\n",
              "      <th>Excel</th>\n",
              "      <th>Git</th>\n",
              "      <th>Java</th>\n",
              "      <th>JavaScript</th>\n",
              "      <th>PHP</th>\n",
              "      <th>PowerBI_Tableau</th>\n",
              "      <th>Python</th>\n",
              "      <th>R</th>\n",
              "      <th>SQL</th>\n",
              "      <th>VBA</th>\n",
              "      <th>commune</th>\n",
              "      <th>Departement</th>\n",
              "      <th>age</th>\n",
              "    </tr>\n",
              "  </thead>\n",
              "  <tbody>\n",
              "    <tr>\n",
              "      <th>0</th>\n",
              "      <td>male</td>\n",
              "      <td>1998-08-25</td>\n",
              "      <td>2021-02-14</td>\n",
              "      <td>unknown</td>\n",
              "      <td>unknown</td>\n",
              "      <td>unknown</td>\n",
              "      <td>unknown</td>\n",
              "      <td>unknown</td>\n",
              "      <td>unknown</td>\n",
              "      <td>unknown</td>\n",
              "      <td>unknown</td>\n",
              "      <td>905dc006-ce95-11eb-b2f9-7c67a234f601</td>\n",
              "      <td>2021-02-14T23:15:19.500Z</td>\n",
              "      <td>NaT</td>\n",
              "      <td>NaT</td>\n",
              "      <td>Yes</td>\n",
              "      <td>No</td>\n",
              "      <td>NaN</td>\n",
              "      <td>NaN</td>\n",
              "      <td>NaN</td>\n",
              "      <td>NaN</td>\n",
              "      <td>NaN</td>\n",
              "      <td>NaN</td>\n",
              "      <td>NaN</td>\n",
              "      <td>NaN</td>\n",
              "      <td>NaN</td>\n",
              "      <td>NaN</td>\n",
              "      <td>NaN</td>\n",
              "      <td>NaN</td>\n",
              "      <td>NaN</td>\n",
              "      <td>NaN</td>\n",
              "      <td>NaN</td>\n",
              "      <td>NaN</td>\n",
              "      <td>NaN</td>\n",
              "      <td>NaN</td>\n",
              "      <td>NaN</td>\n",
              "      <td>Port-au-Prince</td>\n",
              "      <td>West</td>\n",
              "      <td>22.0</td>\n",
              "    </tr>\n",
              "    <tr>\n",
              "      <th>1</th>\n",
              "      <td>female</td>\n",
              "      <td>1996-09-29</td>\n",
              "      <td>2021-02-16</td>\n",
              "      <td>Bachelors (bacc +4)</td>\n",
              "      <td>other</td>\n",
              "      <td>No</td>\n",
              "      <td>unknown</td>\n",
              "      <td>Yes</td>\n",
              "      <td>Yes</td>\n",
              "      <td>Friend</td>\n",
              "      <td>Finding a job/internship</td>\n",
              "      <td>905ddcf2-ce95-11eb-9a92-7c67a234f601</td>\n",
              "      <td>NaN</td>\n",
              "      <td>NaT</td>\n",
              "      <td>NaT</td>\n",
              "      <td>No</td>\n",
              "      <td>No</td>\n",
              "      <td>0.0</td>\n",
              "      <td>0.0</td>\n",
              "      <td>0.0</td>\n",
              "      <td>0.0</td>\n",
              "      <td>0.0</td>\n",
              "      <td>0.0</td>\n",
              "      <td>0.0</td>\n",
              "      <td>0.0</td>\n",
              "      <td>0.0</td>\n",
              "      <td>1.0</td>\n",
              "      <td>0.0</td>\n",
              "      <td>0.0</td>\n",
              "      <td>0.0</td>\n",
              "      <td>0.0</td>\n",
              "      <td>0.0</td>\n",
              "      <td>0.0</td>\n",
              "      <td>1.0</td>\n",
              "      <td>0.0</td>\n",
              "      <td>0.0</td>\n",
              "      <td>Port-au-Prince</td>\n",
              "      <td>West</td>\n",
              "      <td>24.0</td>\n",
              "    </tr>\n",
              "  </tbody>\n",
              "</table>\n",
              "</div>"
            ],
            "text/plain": [
              "   gender        dob Application_date  ...         commune Departement   age\n",
              "0    male 1998-08-25       2021-02-14  ...  Port-au-Prince        West  22.0\n",
              "1  female 1996-09-29       2021-02-16  ...  Port-au-Prince        West  24.0\n",
              "\n",
              "[2 rows x 39 columns]"
            ]
          },
          "metadata": {
            "tags": []
          },
          "execution_count": 138
        }
      ]
    },
    {
      "cell_type": "markdown",
      "metadata": {
        "id": "sTOxJhgyPcLJ"
      },
      "source": [
        "###  1. How many observations and variables are there in the dataset\n",
        " "
      ]
    },
    {
      "cell_type": "code",
      "metadata": {
        "colab": {
          "base_uri": "https://localhost:8080/"
        },
        "id": "51AupqfVdoRn",
        "outputId": "caa7d3e2-5f4c-4231-a9c5-f4628951f9cf"
      },
      "source": [
        "s = data.shape\n",
        "print(f'There are {s[0]} obeservations and {s[1]} variables in this dataset')"
      ],
      "execution_count": null,
      "outputs": [
        {
          "output_type": "stream",
          "text": [
            "There are 249 obeservations and 39 variables in this dataset\n"
          ],
          "name": "stdout"
        }
      ]
    },
    {
      "cell_type": "markdown",
      "metadata": {
        "id": "5OHS6elUPcLK"
      },
      "source": [
        "### 2.A Calculate the average age of the observations\n",
        "   * On the whole dataset\n",
        "   * On the whole male dataset\n",
        "   * On all the female dataset\n",
        "### 2.B Calculate \n",
        "   * variance of the whole datatset,male and female\n",
        "   * kurtosis of the whole datatset,male and female\n",
        "   * skewness of the whole datatset,male and female\n",
        "### 2.C Does the age distribution follow a normal distribution \n",
        "   "
      ]
    },
    {
      "cell_type": "markdown",
      "metadata": {
        "id": "-DyOJM2mcVtB"
      },
      "source": [
        "2.A Calculate the average age of the observations"
      ]
    },
    {
      "cell_type": "code",
      "metadata": {
        "id": "HZkmZ-OvPcLJ",
        "colab": {
          "base_uri": "https://localhost:8080/"
        },
        "outputId": "c0b68cba-7e53-4f84-f49d-5e91fd11fd41"
      },
      "source": [
        "# On teh whole dataset\n",
        "avg_age = data[\"age\"].mean()\n",
        "print(f'People in this dataset have {avg_age:.2f} years old in average')"
      ],
      "execution_count": null,
      "outputs": [
        {
          "output_type": "stream",
          "text": [
            "People in this dataset have 26.67 years old in average\n"
          ],
          "name": "stdout"
        }
      ]
    },
    {
      "cell_type": "code",
      "metadata": {
        "id": "ugqs93KhPcLK",
        "colab": {
          "base_uri": "https://localhost:8080/"
        },
        "outputId": "2f3a7b2d-9d1e-467e-dae9-221caf173061"
      },
      "source": [
        "# On the whole male dataset\n",
        "age_male = data[data['gender']==\"male\"]\n",
        "male=age_male.age\n",
        "mal=age_male.age.mean()\n",
        "print(f'Man have {mal:.2f} years old in average')"
      ],
      "execution_count": null,
      "outputs": [
        {
          "output_type": "stream",
          "text": [
            "Man have 27.07 years old in average\n"
          ],
          "name": "stdout"
        }
      ]
    },
    {
      "cell_type": "code",
      "metadata": {
        "colab": {
          "base_uri": "https://localhost:8080/"
        },
        "id": "_KilsruplWDG",
        "outputId": "4203575f-0b17-4732-96be-5b8b758ec32f"
      },
      "source": [
        "# On the whole female dataset\n",
        "age_female = data[data['gender']==\"female\"]\n",
        "female = age_female.age\n",
        "f_mal=age_female.age.mean()\n",
        "print(f'Woman have {f_mal:.2f} years old in average')"
      ],
      "execution_count": null,
      "outputs": [
        {
          "output_type": "stream",
          "text": [
            "Woman have 24.91 years old in average\n"
          ],
          "name": "stdout"
        }
      ]
    },
    {
      "cell_type": "markdown",
      "metadata": {
        "id": "Ghf6nBiFm8qV"
      },
      "source": [
        "2.B variance of the whole datatset,male and female"
      ]
    },
    {
      "cell_type": "code",
      "metadata": {
        "id": "jsZWyPksnBtM",
        "colab": {
          "base_uri": "https://localhost:8080/"
        },
        "outputId": "36472ebc-5dd4-4330-a3ce-df047ddf48a1"
      },
      "source": [
        "# variance of the whole datatset\n",
        "var = data[\"age\"].var()\n",
        "print(f'{var:.2f} is the variance of age the whole age dataset')"
      ],
      "execution_count": null,
      "outputs": [
        {
          "output_type": "stream",
          "text": [
            "50.86 is the variance of age the whole age dataset\n"
          ],
          "name": "stdout"
        }
      ]
    },
    {
      "cell_type": "code",
      "metadata": {
        "id": "eTjjl1CKnBxE",
        "colab": {
          "base_uri": "https://localhost:8080/"
        },
        "outputId": "70a7f1a5-6336-47ad-d372-d5cc8b4408bf"
      },
      "source": [
        "# variance of the whole male\n",
        "var_male = male.var()\n",
        "print(f'{var_male:.2f} is the variance of age for the male dataset')"
      ],
      "execution_count": null,
      "outputs": [
        {
          "output_type": "stream",
          "text": [
            "50.12 is the variance of age for the male dataset\n"
          ],
          "name": "stdout"
        }
      ]
    },
    {
      "cell_type": "code",
      "metadata": {
        "id": "IyjAM8LfnB0W",
        "colab": {
          "base_uri": "https://localhost:8080/"
        },
        "outputId": "f4b507f5-eb76-474f-f4cc-8537cd66cb21"
      },
      "source": [
        "# variance of the whole female\n",
        "var_female = female.var()\n",
        "print(f'{var_female:.2f} is the variance of age for the female dataset')"
      ],
      "execution_count": null,
      "outputs": [
        {
          "output_type": "stream",
          "text": [
            "51.53 is the variance of age for the female dataset\n"
          ],
          "name": "stdout"
        }
      ]
    },
    {
      "cell_type": "code",
      "metadata": {
        "id": "Dqu6hXY2nB37",
        "colab": {
          "base_uri": "https://localhost:8080/"
        },
        "outputId": "3d7af29e-c3de-4d76-8610-b4725de3f68b"
      },
      "source": [
        "# kurtosis of the whole datatset\n",
        "kurto = data['age'].kurtosis(skipna = True)\n",
        "print(f'{kurto:.2f} is the Kurtosis of age for the whole dataset')"
      ],
      "execution_count": null,
      "outputs": [
        {
          "output_type": "stream",
          "text": [
            "5.18 is the Kurtosis of age for the whole dataset\n"
          ],
          "name": "stdout"
        }
      ]
    },
    {
      "cell_type": "code",
      "metadata": {
        "colab": {
          "base_uri": "https://localhost:8080/"
        },
        "id": "DvD0vt4_bHvA",
        "outputId": "c50c9392-c6e6-4d3c-8407-db154d9a4c9f"
      },
      "source": [
        "# kurtosis of the female datatset\n",
        "kuto_fem = female.kurtosis(skipna = True)\n",
        "print(f'{kuto_fem:.2f} is the Kurtosis of age for the female dataset')"
      ],
      "execution_count": null,
      "outputs": [
        {
          "output_type": "stream",
          "text": [
            "6.00 is the Kurtosis of age for the female dataset\n"
          ],
          "name": "stdout"
        }
      ]
    },
    {
      "cell_type": "code",
      "metadata": {
        "colab": {
          "base_uri": "https://localhost:8080/"
        },
        "id": "7SdhHu6_bH4v",
        "outputId": "4c2819a4-ba25-47b2-cc19-13c315d98f87"
      },
      "source": [
        "# kurtosis of the male datatset\n",
        "kurto_male = male.kurtosis(skipna=True)\n",
        "print(f'{kurto_male:.2f} is the Kurtosis of age for the male dataset')"
      ],
      "execution_count": null,
      "outputs": [
        {
          "output_type": "stream",
          "text": [
            "5.26 is the Kurtosis of age for the male dataset\n"
          ],
          "name": "stdout"
        }
      ]
    },
    {
      "cell_type": "code",
      "metadata": {
        "id": "wkCd7IH5nB7U",
        "colab": {
          "base_uri": "https://localhost:8080/"
        },
        "outputId": "d441f3f3-e06c-476f-ffe3-d7667b2e254a"
      },
      "source": [
        "# Skewness of the whole male\n",
        "skewness = male.skew(skipna = True)\n",
        "skew = abs(skewness)\n",
        "print(f'The Skewness for age varies between {skewness:.2f} and +{skew:.2f} for the female dataset')"
      ],
      "execution_count": null,
      "outputs": [
        {
          "output_type": "stream",
          "text": [
            "The Skewness for age varies between -0.71 and +0.71 for the female dataset\n"
          ],
          "name": "stdout"
        }
      ]
    },
    {
      "cell_type": "code",
      "metadata": {
        "id": "IiwqBEjanCDL",
        "colab": {
          "base_uri": "https://localhost:8080/"
        },
        "outputId": "5f3328ec-d998-42f5-e54a-b3c3a2dc26c3"
      },
      "source": [
        "# Skewness of the whole female\n",
        "skew_f =  female.skew(skipna = True)\n",
        "skewn_f = abs(skew_f)\n",
        "print(f'The Skewness for age varies between {skew_f:.2f} and +{skewn_f:.2f} for the male dataset')"
      ],
      "execution_count": null,
      "outputs": [
        {
          "output_type": "stream",
          "text": [
            "The Skewness for age varies between -1.14 and +1.14 for the male dataset\n"
          ],
          "name": "stdout"
        }
      ]
    },
    {
      "cell_type": "code",
      "metadata": {
        "id": "zzq65un6vsAE"
      },
      "source": [
        "Age=(data[\"age\"].fillna(data.age.mean()))"
      ],
      "execution_count": null,
      "outputs": []
    },
    {
      "cell_type": "code",
      "metadata": {
        "colab": {
          "base_uri": "https://localhost:8080/"
        },
        "id": "SebfNWhgvISi",
        "outputId": "9cf867f4-7a03-4901-a0c0-fd8d49144611"
      },
      "source": [
        "# Does the age distribution follow a normal distribution\n",
        "#Import scipy.stats\n",
        "from scipy.stats import shapiro\n",
        "# normality test\n",
        "stat, p = shapiro(Age)\n",
        "print('Statistics=%.3f, p=%.3f\\n' % (stat, p))\n",
        "# interpret\n",
        "alpha = 0.05\n",
        "if p > alpha:\n",
        "    print('The age distribution looks like a normal distribution\\n')\n",
        "    print ('Fail to reject the null Hypothesis H0')\n",
        "else:\n",
        "    print('The age distribution looks like a normal distribution\\n')\n",
        "    print('We Reject H0')"
      ],
      "execution_count": null,
      "outputs": [
        {
          "output_type": "stream",
          "text": [
            "Statistics=0.851, p=0.000\n",
            "\n",
            "The age distribution looks like a normal distribution\n",
            "\n",
            "We Reject H0\n"
          ],
          "name": "stdout"
        }
      ]
    },
    {
      "cell_type": "code",
      "metadata": {
        "colab": {
          "base_uri": "https://localhost:8080/",
          "height": 437
        },
        "id": "nYSvpO4G0OD8",
        "outputId": "0bdbf261-be5a-4522-bc32-247fe3c2bf95"
      },
      "source": [
        "print(f'The graph below confirm the Shapiro test above\\n\\n')\n",
        "sns.displot(Age,color=\"r\", kde=True)"
      ],
      "execution_count": null,
      "outputs": [
        {
          "output_type": "stream",
          "text": [
            "The graph below confirm the Shapiro test above\n",
            "\n",
            "\n"
          ],
          "name": "stdout"
        },
        {
          "output_type": "execute_result",
          "data": {
            "text/plain": [
              "<seaborn.axisgrid.FacetGrid at 0x7ff253cb0d10>"
            ]
          },
          "metadata": {
            "tags": []
          },
          "execution_count": 153
        },
        {
          "output_type": "display_data",
          "data": {
            "image/png": "[encoded data removed]",
            "text/plain": [
              "<Figure size 360x360 with 1 Axes>"
            ]
          },
          "metadata": {
            "tags": [],
            "needs_background": "light"
          }
        }
      ]
    },
    {
      "cell_type": "markdown",
      "metadata": {
        "id": "R7HNbHomPcLK"
      },
      "source": [
        "### 3.Display the age frequency disbrution\n",
        "   * On the whole dataset\n",
        "   * On the whole male dataset\n",
        "   * On all the female dataset"
      ]
    },
    {
      "cell_type": "code",
      "metadata": {
        "id": "MUYsEH0O2Sba"
      },
      "source": [
        "# DFunction for dissplaying the age frequency disbrution on the whole dataset\n",
        "def frequency(data=\"data\"):\n",
        "    freq = data[\"age\"].value_counts(normalize=True).to_frame()\n",
        "    dist = sns.displot(freq, kde=True)\n",
        "    return dist "
      ],
      "execution_count": null,
      "outputs": []
    },
    {
      "cell_type": "code",
      "metadata": {
        "colab": {
          "base_uri": "https://localhost:8080/",
          "height": 369
        },
        "id": "7eBXwvpF2StA",
        "outputId": "39848e40-6521-43ce-a258-007205dd12db"
      },
      "source": [
        "# Dissplay the age frequency disbrution on the whole dataset\n",
        "whole_freq = frequency(data)"
      ],
      "execution_count": null,
      "outputs": [
        {
          "output_type": "display_data",
          "data": {
            "image/png": "[encoded data removed]",
            "text/plain": [
              "<Figure size 414.625x360 with 1 Axes>"
            ]
          },
          "metadata": {
            "tags": [],
            "needs_background": "light"
          }
        }
      ]
    },
    {
      "cell_type": "code",
      "metadata": {
        "colab": {
          "base_uri": "https://localhost:8080/",
          "height": 369
        },
        "id": "Fsgx2bIX2Sx6",
        "outputId": "2450f0db-580e-4b06-b4c0-801f704320b7"
      },
      "source": [
        "# Dissplay the age frequency disbrution on the male dataset\n",
        "m_freq = frequency(age_male)"
      ],
      "execution_count": null,
      "outputs": [
        {
          "output_type": "display_data",
          "data": {
            "image/png": "[encoded data removed]",
            "text/plain": [
              "<Figure size 414.625x360 with 1 Axes>"
            ]
          },
          "metadata": {
            "tags": [],
            "needs_background": "light"
          }
        }
      ]
    },
    {
      "cell_type": "code",
      "metadata": {
        "colab": {
          "base_uri": "https://localhost:8080/",
          "height": 369
        },
        "id": "I5sdovbx2S-V",
        "outputId": "f4ca6f44-c0a1-4c2d-9def-356d5d44de2f"
      },
      "source": [
        "# Dissplay the age frequency disbrution on the male dataset\n",
        "m_freq = frequency(age_female)"
      ],
      "execution_count": null,
      "outputs": [
        {
          "output_type": "display_data",
          "data": {
            "image/png": "[encoded data removed]",
            "text/plain": [
              "<Figure size 414.625x360 with 1 Axes>"
            ]
          },
          "metadata": {
            "tags": [],
            "needs_background": "light"
          }
        }
      ]
    },
    {
      "cell_type": "markdown",
      "metadata": {
        "id": "vx6W34dGPcLL"
      },
      "source": [
        "### 4. Can we say that the average age (24 years old) of the observations can be considered as the average age of the population likely to participate in this bootcamp. Justify your answer"
      ]
    },
    {
      "cell_type": "code",
      "metadata": {
        "colab": {
          "base_uri": "https://localhost:8080/"
        },
        "id": "Gl-6FaPW_qxJ",
        "outputId": "67e9f4db-4ebf-48e6-a5a6-ffd50369dbf1"
      },
      "source": [
        "# One-Sample T-Test with Wilcoxon test\n",
        "# H0: Mu=24\n",
        "# H1: Mu!=24\n",
        "from scipy import stats\n",
        "stat, p =stats.wilcoxon(data.age-24)\n",
        "print(\"Statistics = %.2f, p = %.2f\\n\" % (stat, p))\n",
        "#interpretation\n",
        "alpha=0.05\n",
        "if p > alpha:\n",
        "    print('Fail to reject H0: H0 mu = 24')\n",
        "else:\n",
        "    print(\"We reject H0\\n\")\n",
        "\n",
        "    print(\"We cannot assume that the average age (24 years old) of the observations could\\n\"\n",
        "    \"Be considered as the average age of the population likely to participate in this Bootcamp\")"
      ],
      "execution_count": null,
      "outputs": [
        {
          "output_type": "stream",
          "text": [
            "Statistics = 5092.50, p = 0.00\n",
            "\n",
            "We reject H0\n",
            "\n",
            "We cannot assume that the average age (24 years old) of the observations could\n",
            "Be considered as the average age of the population likely to participate in this Bootcamp\n"
          ],
          "name": "stdout"
        }
      ]
    },
    {
      "cell_type": "markdown",
      "metadata": {
        "id": "FYa9WqhvPcLL"
      },
      "source": [
        "### 5. Calculate the average age of participants for each communication channel"
      ]
    },
    {
      "cell_type": "code",
      "metadata": {
        "id": "VFFmue3uPcLM",
        "colab": {
          "base_uri": "https://localhost:8080/",
          "height": 390
        },
        "outputId": "8e4a08d3-60a7-4d9e-c60e-36794fa448a2"
      },
      "source": [
        "# create table for communications channel\n",
        "channels_mean_age=round(pd.pivot_table(data,index=\"communication_channel\", values='age', aggfunc='mean'),2)\n",
        "channels_mean_age"
      ],
      "execution_count": null,
      "outputs": [
        {
          "output_type": "execute_result",
          "data": {
            "text/html": [
              "<div>\n",
              "<style scoped>\n",
              "    .dataframe tbody tr th:only-of-type {\n",
              "        vertical-align: middle;\n",
              "    }\n",
              "\n",
              "    .dataframe tbody tr th {\n",
              "        vertical-align: top;\n",
              "    }\n",
              "\n",
              "    .dataframe thead th {\n",
              "        text-align: right;\n",
              "    }\n",
              "</style>\n",
              "<table border=\"1\" class=\"dataframe\">\n",
              "  <thead>\n",
              "    <tr style=\"text-align: right;\">\n",
              "      <th></th>\n",
              "      <th>age</th>\n",
              "    </tr>\n",
              "    <tr>\n",
              "      <th>communication_channel</th>\n",
              "      <th></th>\n",
              "    </tr>\n",
              "  </thead>\n",
              "  <tbody>\n",
              "    <tr>\n",
              "      <th>Ayiti Analytics Website</th>\n",
              "      <td>27.20</td>\n",
              "    </tr>\n",
              "    <tr>\n",
              "      <th>Bootcamp Alumni</th>\n",
              "      <td>26.64</td>\n",
              "    </tr>\n",
              "    <tr>\n",
              "      <th>ESIH</th>\n",
              "      <td>23.65</td>\n",
              "    </tr>\n",
              "    <tr>\n",
              "      <th>Facebook</th>\n",
              "      <td>25.82</td>\n",
              "    </tr>\n",
              "    <tr>\n",
              "      <th>Friend</th>\n",
              "      <td>26.85</td>\n",
              "    </tr>\n",
              "    <tr>\n",
              "      <th>Instagram</th>\n",
              "      <td>25.40</td>\n",
              "    </tr>\n",
              "    <tr>\n",
              "      <th>LinkedIn</th>\n",
              "      <td>30.50</td>\n",
              "    </tr>\n",
              "    <tr>\n",
              "      <th>WhatsApp</th>\n",
              "      <td>26.75</td>\n",
              "    </tr>\n",
              "    <tr>\n",
              "      <th>other</th>\n",
              "      <td>28.67</td>\n",
              "    </tr>\n",
              "    <tr>\n",
              "      <th>unknown</th>\n",
              "      <td>22.00</td>\n",
              "    </tr>\n",
              "  </tbody>\n",
              "</table>\n",
              "</div>"
            ],
            "text/plain": [
              "                           age\n",
              "communication_channel         \n",
              "Ayiti Analytics Website  27.20\n",
              "Bootcamp Alumni          26.64\n",
              "ESIH                     23.65\n",
              "Facebook                 25.82\n",
              "Friend                   26.85\n",
              "Instagram                25.40\n",
              "LinkedIn                 30.50\n",
              "WhatsApp                 26.75\n",
              "other                    28.67\n",
              "unknown                  22.00"
            ]
          },
          "metadata": {
            "tags": []
          },
          "execution_count": 159
        }
      ]
    },
    {
      "cell_type": "markdown",
      "metadata": {
        "id": "JlIpwr31PcLM"
      },
      "source": [
        "### 6. Display an age boxplot for each communication channel"
      ]
    },
    {
      "cell_type": "code",
      "metadata": {
        "colab": {
          "base_uri": "https://localhost:8080/",
          "height": 535
        },
        "id": "jy05Tv_2dos_",
        "outputId": "91640eee-d811-4440-df55-4d118db884b9"
      },
      "source": [
        "plt.figure(figsize=(10,8))\n",
        "sns.set_theme(style=\"ticks\")\n",
        "ax = sns.boxplot(x=data['communication_channel'], y=data['age'], data=data)\n",
        "plt.title('Age distribution by communication channel')"
      ],
      "execution_count": null,
      "outputs": [
        {
          "output_type": "execute_result",
          "data": {
            "text/plain": [
              "Text(0.5, 1.0, 'Age distribution by communication channel')"
            ]
          },
          "metadata": {
            "tags": []
          },
          "execution_count": 160
        },
        {
          "output_type": "display_data",
          "data": {
            "image/png": "[encoded data removed]",
            "text/plain": [
              "<Figure size 720x576 with 1 Axes>"
            ]
          },
          "metadata": {
            "tags": [],
            "needs_background": "light"
          }
        }
      ]
    },
    {
      "cell_type": "markdown",
      "metadata": {
        "id": "BOwblKwzPcLM"
      },
      "source": [
        "### 7 .Is there a significant age difference between these groups"
      ]
    },
    {
      "cell_type": "code",
      "metadata": {
        "id": "yjjcSAHfqdTl"
      },
      "source": [
        "channel = data['communication_channel']\n",
        "data[\"age\"]=data.age.fillna(data.age.mean())\n",
        "ESIH = data[channel==\"ESIH\"].age\n",
        "Friend = data[channel==\"Friend\"].age\n",
        "WhatsApp = data[channel==\"WhatsApp\"].age\n",
        "Website = data[channel==\"Ayiti Analytics Website\"].age\n",
        "Alumni = data[channel==\"Bootcamp Alumni\"].age\n",
        "Instagram = data[channel==\"Instagram\"].age\n",
        "LinkedIn = data[channel==\"LinkedIn\"].age"
      ],
      "execution_count": null,
      "outputs": []
    },
    {
      "cell_type": "code",
      "metadata": {
        "colab": {
          "base_uri": "https://localhost:8080/",
          "height": 196
        },
        "id": "6zk1AiwIbFSj",
        "outputId": "6479694e-8a9e-419a-832c-99eba1ebdd81"
      },
      "source": [
        "# Anova test\n",
        "import statsmodels.api as sm\n",
        "from statsmodels.formula.api import ols\n",
        "model = ols('data[\"age\"] ~ C(channel)', data=data).fit()\n",
        "aov_table = sm.stats.anova_lm(model, typ=2)\n",
        "display(aov_table)\n",
        "alpha=0.05\n",
        "p = aov_table[\"PR(>F)\"][0]\n",
        "print(\"\\n\")\n",
        "print(p)\n",
        "if p > alpha:\n",
        "    print('Fail to reject H0')\n",
        "    print(\"The differences between channel group means are not statistically significant\")\n",
        "else:\n",
        "    print(\"We reject H0\\n\")\n",
        "\n",
        "    print(\"The differences between some of the means are statistically significant\")\n"
      ],
      "execution_count": null,
      "outputs": [
        {
          "output_type": "display_data",
          "data": {
            "text/html": [
              "<div>\n",
              "<style scoped>\n",
              "    .dataframe tbody tr th:only-of-type {\n",
              "        vertical-align: middle;\n",
              "    }\n",
              "\n",
              "    .dataframe tbody tr th {\n",
              "        vertical-align: top;\n",
              "    }\n",
              "\n",
              "    .dataframe thead th {\n",
              "        text-align: right;\n",
              "    }\n",
              "</style>\n",
              "<table border=\"1\" class=\"dataframe\">\n",
              "  <thead>\n",
              "    <tr style=\"text-align: right;\">\n",
              "      <th></th>\n",
              "      <th>sum_sq</th>\n",
              "      <th>df</th>\n",
              "      <th>F</th>\n",
              "      <th>PR(&gt;F)</th>\n",
              "    </tr>\n",
              "  </thead>\n",
              "  <tbody>\n",
              "    <tr>\n",
              "      <th>C(channel)</th>\n",
              "      <td>437.850629</td>\n",
              "      <td>9.0</td>\n",
              "      <td>0.979603</td>\n",
              "      <td>0.457482</td>\n",
              "    </tr>\n",
              "    <tr>\n",
              "      <th>Residual</th>\n",
              "      <td>11869.466243</td>\n",
              "      <td>239.0</td>\n",
              "      <td>NaN</td>\n",
              "      <td>NaN</td>\n",
              "    </tr>\n",
              "  </tbody>\n",
              "</table>\n",
              "</div>"
            ],
            "text/plain": [
              "                  sum_sq     df         F    PR(>F)\n",
              "C(channel)    437.850629    9.0  0.979603  0.457482\n",
              "Residual    11869.466243  239.0       NaN       NaN"
            ]
          },
          "metadata": {
            "tags": []
          }
        },
        {
          "output_type": "stream",
          "text": [
            "\n",
            "\n",
            "0.4574821151539047\n",
            "Fail to reject H0\n",
            "The differences between channel group means are not statistically significant\n"
          ],
          "name": "stdout"
        }
      ]
    },
    {
      "cell_type": "code",
      "metadata": {
        "colab": {
          "base_uri": "https://localhost:8080/",
          "height": 645
        },
        "id": "VGZ--9yesAoP",
        "outputId": "1e5d7ecb-fb8a-4cde-889b-32263754622e"
      },
      "source": [
        "print(f'The graph below confirm the test above')\n",
        "from matplotlib.colors import ListedColormap\n",
        "# Show communication channel by age avg\n",
        "print(\"\\n\")\n",
        "fig20 =channels_mean_age.plot(kind='barh', stacked=False, colormap=ListedColormap(sns.color_palette(\"pastel\", 10)), figsize=(15,10))"
      ],
      "execution_count": null,
      "outputs": [
        {
          "output_type": "stream",
          "text": [
            "The graph below confirm the test above\n",
            "\n",
            "\n"
          ],
          "name": "stdout"
        },
        {
          "output_type": "display_data",
          "data": {
            "image/png": "[encoded data removed]",
            "text/plain": [
              "<Figure size 1080x720 with 1 Axes>"
            ]
          },
          "metadata": {
            "tags": []
          }
        }
      ]
    },
    {
      "cell_type": "markdown",
      "metadata": {
        "id": "brHhDsqNPcLM"
      },
      "source": [
        "### 8.Plan a BA strategy for each communication channel regarding the age group"
      ]
    },
    {
      "cell_type": "code",
      "metadata": {
        "id": "dLwhFRJ3PcLN"
      },
      "source": [
        "#here your codes"
      ],
      "execution_count": null,
      "outputs": []
    },
    {
      "cell_type": "markdown",
      "metadata": {
        "id": "YDkcc3SLPcLN"
      },
      "source": [
        "### 9.According to the observations what is the probability of being in each channel of communication knowing your are a woman"
      ]
    },
    {
      "cell_type": "code",
      "metadata": {
        "id": "q2Tz83gCPcLN"
      },
      "source": [
        "# a conditional probability function\n",
        "def proba_c1_knowing_c2(data=data,c1=\"communication_channel\", c2=\"gender\", c2_mod=\"\", normalize='index'):\n",
        "  tab_prob=pd.crosstab(data[c2],data[c1],normalize=\"index\")\n",
        "  print(f\"Probability of {c1} knowing {c2} ={c2_mod}: \")\n",
        "  if c2_mod in tab_prob.index:\n",
        "    for col in tab_prob.columns:\n",
        "      print(f\"The probability of using {col} as {c1} knowing {c2_mod} is: {round(tab_prob.at[c2_mod, col],4)}\")\n",
        "  else:\n",
        "    for col in tab_prob.index:\n",
        "      print(f\"The probability of {c1} as {c2_mod} knowing {col} is: {round(tab_prob.at[col,c2_mod],4)}\")"
      ],
      "execution_count": null,
      "outputs": []
    },
    {
      "cell_type": "code",
      "metadata": {
        "colab": {
          "base_uri": "https://localhost:8080/"
        },
        "id": "vpoKcs9ftYCw",
        "outputId": "d1eb2617-f0cd-44f7-bbb3-437ca1542e53"
      },
      "source": [
        "proba_c1_knowing_c2(c2_mod=\"female\")"
      ],
      "execution_count": null,
      "outputs": [
        {
          "output_type": "stream",
          "text": [
            "Probability of communication_channel knowing gender =female: \n",
            "The probability of using Ayiti Analytics Website as communication_channel knowing female is: 0.087\n",
            "The probability of using Bootcamp Alumni as communication_channel knowing female is: 0.1739\n",
            "The probability of using ESIH as communication_channel knowing female is: 0.1087\n",
            "The probability of using Facebook as communication_channel knowing female is: 0.1087\n",
            "The probability of using Friend as communication_channel knowing female is: 0.2391\n",
            "The probability of using Instagram as communication_channel knowing female is: 0.0217\n",
            "The probability of using LinkedIn as communication_channel knowing female is: 0.0217\n",
            "The probability of using WhatsApp as communication_channel knowing female is: 0.1957\n",
            "The probability of using other as communication_channel knowing female is: 0.0435\n",
            "The probability of using unknown as communication_channel knowing female is: 0.0\n"
          ],
          "name": "stdout"
        }
      ]
    },
    {
      "cell_type": "markdown",
      "metadata": {
        "id": "WWKmva0cPcLN"
      },
      "source": [
        "### 10.According to the observations what is the probability of being in each channel of communication knowing your are a man"
      ]
    },
    {
      "cell_type": "code",
      "metadata": {
        "id": "AgzzNpusPcLN",
        "colab": {
          "base_uri": "https://localhost:8080/"
        },
        "outputId": "6222d689-ab98-4f82-8c6e-b0760d5e6c37"
      },
      "source": [
        "#here your codes\n",
        "proba_c1_knowing_c2(data=data,c1=\"gender\", c2=\"communication_channel\", c2_mod=\"female\", normalize='index')"
      ],
      "execution_count": null,
      "outputs": [
        {
          "output_type": "stream",
          "text": [
            "Probability of gender knowing communication_channel =female: \n",
            "The probability of gender as female knowing Ayiti Analytics Website is: 0.2667\n",
            "The probability of gender as female knowing Bootcamp Alumni is: 0.5714\n",
            "The probability of gender as female knowing ESIH is: 0.2778\n",
            "The probability of gender as female knowing Facebook is: 0.1282\n",
            "The probability of gender as female knowing Friend is: 0.1642\n",
            "The probability of gender as female knowing Instagram is: 0.2\n",
            "The probability of gender as female knowing LinkedIn is: 0.0667\n",
            "The probability of gender as female knowing WhatsApp is: 0.1364\n",
            "The probability of gender as female knowing other is: 0.2222\n",
            "The probability of gender as female knowing unknown is: 0.0\n"
          ],
          "name": "stdout"
        }
      ]
    },
    {
      "cell_type": "markdown",
      "metadata": {
        "id": "45jwKg94PcLN"
      },
      "source": [
        "### 11. Deduce the probability of being a woman knowing each communication channel"
      ]
    },
    {
      "cell_type": "code",
      "metadata": {
        "id": "k_pl9XcaPcLO",
        "colab": {
          "base_uri": "https://localhost:8080/"
        },
        "outputId": "3bdef84a-b55e-4345-eb2a-9114e01faa44"
      },
      "source": [
        "#here your codes\n",
        "proba_c1_knowing_c2(data=data,c1=\"gender\", c2=\"communication_channel\", c2_mod=\"female\", normalize='index')"
      ],
      "execution_count": null,
      "outputs": [
        {
          "output_type": "stream",
          "text": [
            "Probability of gender knowing communication_channel =female: \n",
            "The probability of gender as female knowing Ayiti Analytics Website is: 0.2667\n",
            "The probability of gender as female knowing Bootcamp Alumni is: 0.5714\n",
            "The probability of gender as female knowing ESIH is: 0.2778\n",
            "The probability of gender as female knowing Facebook is: 0.1282\n",
            "The probability of gender as female knowing Friend is: 0.1642\n",
            "The probability of gender as female knowing Instagram is: 0.2\n",
            "The probability of gender as female knowing LinkedIn is: 0.0667\n",
            "The probability of gender as female knowing WhatsApp is: 0.1364\n",
            "The probability of gender as female knowing other is: 0.2222\n",
            "The probability of gender as female knowing unknown is: 0.0\n"
          ],
          "name": "stdout"
        }
      ]
    },
    {
      "cell_type": "markdown",
      "metadata": {
        "id": "SZqcLFCKPcLO"
      },
      "source": [
        "### 13. Deduce the probability of being a woman knowing each communication channel"
      ]
    },
    {
      "cell_type": "code",
      "metadata": {
        "id": "fLFcXnYbPcLO",
        "colab": {
          "base_uri": "https://localhost:8080/"
        },
        "outputId": "c9fb0af0-ef4d-48ee-cbc4-8b43e66dd8df"
      },
      "source": [
        "# here your codes\n",
        "proba_c1_knowing_c2(data=data,c1=\"gender\", c2=\"communication_channel\", c2_mod=\"female\", normalize='index')"
      ],
      "execution_count": null,
      "outputs": [
        {
          "output_type": "stream",
          "text": [
            "Probability of gender knowing communication_channel =female: \n",
            "The probability of gender as female knowing Ayiti Analytics Website is: 0.2667\n",
            "The probability of gender as female knowing Bootcamp Alumni is: 0.5714\n",
            "The probability of gender as female knowing ESIH is: 0.2778\n",
            "The probability of gender as female knowing Facebook is: 0.1282\n",
            "The probability of gender as female knowing Friend is: 0.1642\n",
            "The probability of gender as female knowing Instagram is: 0.2\n",
            "The probability of gender as female knowing LinkedIn is: 0.0667\n",
            "The probability of gender as female knowing WhatsApp is: 0.1364\n",
            "The probability of gender as female knowing other is: 0.2222\n",
            "The probability of gender as female knowing unknown is: 0.0\n"
          ],
          "name": "stdout"
        }
      ]
    },
    {
      "cell_type": "markdown",
      "metadata": {
        "id": "Edt9EBK7PcLO"
      },
      "source": [
        "### 14. Deduce the probability of being a man knowing each communication channel"
      ]
    },
    {
      "cell_type": "code",
      "metadata": {
        "id": "0k0DKuMkPcLO",
        "colab": {
          "base_uri": "https://localhost:8080/"
        },
        "outputId": "eb706614-ccdc-4636-d9d1-54fa70697258"
      },
      "source": [
        "# here your codes\n",
        "proba_c1_knowing_c2(data=data,c1=\"gender\", c2=\"communication_channel\", c2_mod=\"male\", normalize='index')"
      ],
      "execution_count": null,
      "outputs": [
        {
          "output_type": "stream",
          "text": [
            "Probability of gender knowing communication_channel =male: \n",
            "The probability of gender as male knowing Ayiti Analytics Website is: 0.7333\n",
            "The probability of gender as male knowing Bootcamp Alumni is: 0.4286\n",
            "The probability of gender as male knowing ESIH is: 0.7222\n",
            "The probability of gender as male knowing Facebook is: 0.8718\n",
            "The probability of gender as male knowing Friend is: 0.8358\n",
            "The probability of gender as male knowing Instagram is: 0.8\n",
            "The probability of gender as male knowing LinkedIn is: 0.9333\n",
            "The probability of gender as male knowing WhatsApp is: 0.8636\n",
            "The probability of gender as male knowing other is: 0.7778\n",
            "The probability of gender as male knowing unknown is: 1.0\n"
          ],
          "name": "stdout"
        }
      ]
    },
    {
      "cell_type": "markdown",
      "metadata": {
        "id": "kKNp_WzCPcLO"
      },
      "source": [
        "### 15 Display a plot to see Gender vs Communication Channels .Is there any dependency between communication channels and gender?"
      ]
    },
    {
      "cell_type": "code",
      "metadata": {
        "id": "3sq8faaxPcLO",
        "colab": {
          "base_uri": "https://localhost:8080/",
          "height": 142
        },
        "outputId": "7a74087b-c466-4f55-9ae5-96205ffbba27"
      },
      "source": [
        "# Gender distribution by channel\n",
        "data[\"index\"]=data.index\n",
        "gender_com=pd.pivot_table(data,values=\"index\", index=['gender',],\n",
        "columns=['communication_channel'], aggfunc=\"count\",fill_value =0)\n",
        "gender_com"
      ],
      "execution_count": null,
      "outputs": [
        {
          "output_type": "execute_result",
          "data": {
            "text/html": [
              "<div>\n",
              "<style scoped>\n",
              "    .dataframe tbody tr th:only-of-type {\n",
              "        vertical-align: middle;\n",
              "    }\n",
              "\n",
              "    .dataframe tbody tr th {\n",
              "        vertical-align: top;\n",
              "    }\n",
              "\n",
              "    .dataframe thead th {\n",
              "        text-align: right;\n",
              "    }\n",
              "</style>\n",
              "<table border=\"1\" class=\"dataframe\">\n",
              "  <thead>\n",
              "    <tr style=\"text-align: right;\">\n",
              "      <th>communication_channel</th>\n",
              "      <th>Ayiti Analytics Website</th>\n",
              "      <th>Bootcamp Alumni</th>\n",
              "      <th>ESIH</th>\n",
              "      <th>Facebook</th>\n",
              "      <th>Friend</th>\n",
              "      <th>Instagram</th>\n",
              "      <th>LinkedIn</th>\n",
              "      <th>WhatsApp</th>\n",
              "      <th>other</th>\n",
              "      <th>unknown</th>\n",
              "    </tr>\n",
              "    <tr>\n",
              "      <th>gender</th>\n",
              "      <th></th>\n",
              "      <th></th>\n",
              "      <th></th>\n",
              "      <th></th>\n",
              "      <th></th>\n",
              "      <th></th>\n",
              "      <th></th>\n",
              "      <th></th>\n",
              "      <th></th>\n",
              "      <th></th>\n",
              "    </tr>\n",
              "  </thead>\n",
              "  <tbody>\n",
              "    <tr>\n",
              "      <th>female</th>\n",
              "      <td>4</td>\n",
              "      <td>8</td>\n",
              "      <td>5</td>\n",
              "      <td>5</td>\n",
              "      <td>11</td>\n",
              "      <td>1</td>\n",
              "      <td>1</td>\n",
              "      <td>9</td>\n",
              "      <td>2</td>\n",
              "      <td>0</td>\n",
              "    </tr>\n",
              "    <tr>\n",
              "      <th>male</th>\n",
              "      <td>11</td>\n",
              "      <td>6</td>\n",
              "      <td>13</td>\n",
              "      <td>34</td>\n",
              "      <td>56</td>\n",
              "      <td>4</td>\n",
              "      <td>14</td>\n",
              "      <td>57</td>\n",
              "      <td>7</td>\n",
              "      <td>1</td>\n",
              "    </tr>\n",
              "  </tbody>\n",
              "</table>\n",
              "</div>"
            ],
            "text/plain": [
              "communication_channel  Ayiti Analytics Website  Bootcamp Alumni  ...  other  unknown\n",
              "gender                                                           ...                \n",
              "female                                       4                8  ...      2        0\n",
              "male                                        11                6  ...      7        1\n",
              "\n",
              "[2 rows x 10 columns]"
            ]
          },
          "metadata": {
            "tags": []
          },
          "execution_count": 174
        }
      ]
    },
    {
      "cell_type": "code",
      "metadata": {
        "id": "11_BvIuOwwOe"
      },
      "source": [
        "# plot the graph\n",
        "fig1 =gender_com.plot(kind='barh', stacked=False,\n",
        "          colormap=ListedColormap(sns.color_palette(\"pastel\", 10)), \n",
        "          figsize=(15,10))"
      ],
      "execution_count": null,
      "outputs": []
    },
    {
      "cell_type": "markdown",
      "metadata": {
        "id": "_NM_zX4QPcLP"
      },
      "source": [
        "### 16 Use the same method to display plot and know if is there any dependency between communication channels and Bootcamp Insterest?"
      ]
    },
    {
      "cell_type": "code",
      "metadata": {
        "id": "0ZcTL2DDPcLP",
        "colab": {
          "base_uri": "https://localhost:8080/"
        },
        "outputId": "c9906032-8ada-46a0-89e1-85f40235a70f"
      },
      "source": [
        "# here your codes\n",
        "# Apply Test\n",
        "stat, p, dof, expected = chi2_contingency(gender_com.values)\n",
        "print(\"p-values:\",p)\n",
        "if p < 0.05:\n",
        " print(\"We reject Ho : There is a dependency between communication channels and gender\")\n",
        "else:\n",
        " print(\"Fail to rejected Ho : There is no dependency between communication channels and gender\")"
      ],
      "execution_count": null,
      "outputs": [
        {
          "output_type": "stream",
          "text": [
            "p-values: 0.022373040503073267\n",
            "We reject Ho : There is a dependency between communication channels and gender\n"
          ],
          "name": "stdout"
        }
      ]
    },
    {
      "cell_type": "markdown",
      "metadata": {
        "id": "ba9s2haMPcLP"
      },
      "source": [
        "### 17.Plan a BA  strategy for each communication channel, Bootcamp Insterest regarding the gender "
      ]
    },
    {
      "cell_type": "code",
      "metadata": {
        "id": "07TFxvmGPcLP",
        "colab": {
          "base_uri": "https://localhost:8080/",
          "height": 297
        },
        "outputId": "2c8b72d6-200d-4456-926e-cf3bcf61ae25"
      },
      "source": [
        "# Summarise dataframe using pivot table: communication channel &  Bootcamp Interest\n",
        "inter_comm=pd.pivot_table(data,values=\"index\", index=['Bootcamp_Interest',],\n",
        " columns=['communication_channel'], aggfunc=\"count\",fill_value =0)\n",
        "\n",
        "inter_comm"
      ],
      "execution_count": null,
      "outputs": [
        {
          "output_type": "execute_result",
          "data": {
            "text/html": [
              "<div>\n",
              "<style scoped>\n",
              "    .dataframe tbody tr th:only-of-type {\n",
              "        vertical-align: middle;\n",
              "    }\n",
              "\n",
              "    .dataframe tbody tr th {\n",
              "        vertical-align: top;\n",
              "    }\n",
              "\n",
              "    .dataframe thead th {\n",
              "        text-align: right;\n",
              "    }\n",
              "</style>\n",
              "<table border=\"1\" class=\"dataframe\">\n",
              "  <thead>\n",
              "    <tr style=\"text-align: right;\">\n",
              "      <th>communication_channel</th>\n",
              "      <th>Ayiti Analytics Website</th>\n",
              "      <th>Bootcamp Alumni</th>\n",
              "      <th>ESIH</th>\n",
              "      <th>Facebook</th>\n",
              "      <th>Friend</th>\n",
              "      <th>Instagram</th>\n",
              "      <th>LinkedIn</th>\n",
              "      <th>WhatsApp</th>\n",
              "      <th>other</th>\n",
              "      <th>unknown</th>\n",
              "    </tr>\n",
              "    <tr>\n",
              "      <th>Bootcamp_Interest</th>\n",
              "      <th></th>\n",
              "      <th></th>\n",
              "      <th></th>\n",
              "      <th></th>\n",
              "      <th></th>\n",
              "      <th></th>\n",
              "      <th></th>\n",
              "      <th></th>\n",
              "      <th></th>\n",
              "      <th></th>\n",
              "    </tr>\n",
              "  </thead>\n",
              "  <tbody>\n",
              "    <tr>\n",
              "      <th>Finding a job/internship</th>\n",
              "      <td>1</td>\n",
              "      <td>3</td>\n",
              "      <td>2</td>\n",
              "      <td>10</td>\n",
              "      <td>10</td>\n",
              "      <td>2</td>\n",
              "      <td>2</td>\n",
              "      <td>11</td>\n",
              "      <td>2</td>\n",
              "      <td>0</td>\n",
              "    </tr>\n",
              "    <tr>\n",
              "      <th>Improving my data analysis skills</th>\n",
              "      <td>9</td>\n",
              "      <td>8</td>\n",
              "      <td>12</td>\n",
              "      <td>20</td>\n",
              "      <td>38</td>\n",
              "      <td>0</td>\n",
              "      <td>10</td>\n",
              "      <td>29</td>\n",
              "      <td>4</td>\n",
              "      <td>0</td>\n",
              "    </tr>\n",
              "    <tr>\n",
              "      <th>Mentorship</th>\n",
              "      <td>1</td>\n",
              "      <td>0</td>\n",
              "      <td>1</td>\n",
              "      <td>2</td>\n",
              "      <td>1</td>\n",
              "      <td>0</td>\n",
              "      <td>0</td>\n",
              "      <td>6</td>\n",
              "      <td>1</td>\n",
              "      <td>0</td>\n",
              "    </tr>\n",
              "    <tr>\n",
              "      <th>Switching careers</th>\n",
              "      <td>2</td>\n",
              "      <td>1</td>\n",
              "      <td>0</td>\n",
              "      <td>3</td>\n",
              "      <td>4</td>\n",
              "      <td>1</td>\n",
              "      <td>1</td>\n",
              "      <td>8</td>\n",
              "      <td>0</td>\n",
              "      <td>0</td>\n",
              "    </tr>\n",
              "    <tr>\n",
              "      <th>Training to start my own company</th>\n",
              "      <td>2</td>\n",
              "      <td>1</td>\n",
              "      <td>2</td>\n",
              "      <td>4</td>\n",
              "      <td>14</td>\n",
              "      <td>2</td>\n",
              "      <td>2</td>\n",
              "      <td>11</td>\n",
              "      <td>1</td>\n",
              "      <td>0</td>\n",
              "    </tr>\n",
              "    <tr>\n",
              "      <th>other</th>\n",
              "      <td>0</td>\n",
              "      <td>0</td>\n",
              "      <td>1</td>\n",
              "      <td>0</td>\n",
              "      <td>0</td>\n",
              "      <td>0</td>\n",
              "      <td>0</td>\n",
              "      <td>1</td>\n",
              "      <td>1</td>\n",
              "      <td>0</td>\n",
              "    </tr>\n",
              "    <tr>\n",
              "      <th>unknown</th>\n",
              "      <td>0</td>\n",
              "      <td>1</td>\n",
              "      <td>0</td>\n",
              "      <td>0</td>\n",
              "      <td>0</td>\n",
              "      <td>0</td>\n",
              "      <td>0</td>\n",
              "      <td>0</td>\n",
              "      <td>0</td>\n",
              "      <td>1</td>\n",
              "    </tr>\n",
              "  </tbody>\n",
              "</table>\n",
              "</div>"
            ],
            "text/plain": [
              "communication_channel              Ayiti Analytics Website  ...  unknown\n",
              "Bootcamp_Interest                                           ...         \n",
              "Finding a job/internship                                 1  ...        0\n",
              "Improving my data analysis skills                        9  ...        0\n",
              "Mentorship                                               1  ...        0\n",
              "Switching careers                                        2  ...        0\n",
              "Training to start my own company                         2  ...        0\n",
              "other                                                    0  ...        0\n",
              "unknown                                                  0  ...        1\n",
              "\n",
              "[7 rows x 10 columns]"
            ]
          },
          "metadata": {
            "tags": []
          },
          "execution_count": 176
        }
      ]
    },
    {
      "cell_type": "code",
      "metadata": {
        "colab": {
          "base_uri": "https://localhost:8080/",
          "height": 790
        },
        "id": "etTIWFbDywj9",
        "outputId": "26b5b1e2-b094-41df-9aa2-879257e2bf7d"
      },
      "source": [
        "fig1 =fig1 =inter_comm.plot(kind='bar', stacked=False,\n",
        "          colormap=ListedColormap(sns.color_palette(\"Dark2_r\", 10)), \n",
        "          figsize=(20,10)).plot(kind='bar', stacked=False,\n",
        "          colormap=ListedColormap(sns.color_palette(\"Dark2_r\", 10)), \n",
        "          figsize=(15,10))"
      ],
      "execution_count": null,
      "outputs": [
        {
          "output_type": "display_data",
          "data": {
            "image/png": "[encoded data removed]",
            "text/plain": [
              "<Figure size 1440x720 with 1 Axes>"
            ]
          },
          "metadata": {
            "tags": []
          }
        }
      ]
    },
    {
      "cell_type": "code",
      "metadata": {
        "colab": {
          "base_uri": "https://localhost:8080/"
        },
        "id": "i7yfKgnezaNz",
        "outputId": "e54003fb-7d9e-4005-e75f-39f3ff79887b"
      },
      "source": [
        "# the test\n",
        "stat, p, dof, expected = chi2_contingency(inter_comm.values)\n",
        "print(\"p-values:\",p)\n",
        "if p < 0.05:\n",
        " print(\"We reject Ho : There is a dependency between communication channels and Bootcamp Insterest\")\n",
        "else:\n",
        " print(\"Fail to reject Ho : There areinter_comm no dependency between communication channels and Bootcamp Insterest\")"
      ],
      "execution_count": null,
      "outputs": [
        {
          "output_type": "stream",
          "text": [
            "p-values: 3.3440043828564116e-14\n",
            "We reject Ho : There is a dependency between communication channels and Bootcamp Insterest\n"
          ],
          "name": "stdout"
        }
      ]
    },
    {
      "cell_type": "markdown",
      "metadata": {
        "id": "QjCHsT8bPcLP"
      },
      "source": [
        "### 18.Plan a BA  strategy for each communication channel, Bootcamp Insterest regarding the gender"
      ]
    },
    {
      "cell_type": "code",
      "metadata": {
        "colab": {
          "base_uri": "https://localhost:8080/",
          "height": 806
        },
        "id": "thYyn5Hy1HL7",
        "outputId": "1e82644c-eed7-441a-e55e-4bec8423221a"
      },
      "source": [
        "#Filt communication channel by quest_id and gender\n",
        "print(\"\\n\")\n",
        "cha_gender=pd.pivot_table(data=data,values=\"Nbr_of_applicants\",index=\"communication_channel\",columns=\"gender\",aggfunc=\"count\")\n",
        "print(f'Gender distribution by communication channel')\n",
        "display(cha_gender)\n",
        "print(\"\\n\\n\\n\")\n",
        "#Filt Bootcamp Interest by quest_id and gender\n",
        "boo_gender=pd.pivot_table(data=data,values=\"Nbr_of_applicants\",index=\"Bootcamp_Interest\",columns=\"gender\",aggfunc=\"count\")\n",
        "print(f'Gender distribution by Bootcamp interest')\n",
        "display(boo_gender)"
      ],
      "execution_count": null,
      "outputs": [
        {
          "output_type": "stream",
          "text": [
            "\n",
            "\n",
            "Gender distribution by communication channel\n"
          ],
          "name": "stdout"
        },
        {
          "output_type": "display_data",
          "data": {
            "text/html": [
              "<div>\n",
              "<style scoped>\n",
              "    .dataframe tbody tr th:only-of-type {\n",
              "        vertical-align: middle;\n",
              "    }\n",
              "\n",
              "    .dataframe tbody tr th {\n",
              "        vertical-align: top;\n",
              "    }\n",
              "\n",
              "    .dataframe thead th {\n",
              "        text-align: right;\n",
              "    }\n",
              "</style>\n",
              "<table border=\"1\" class=\"dataframe\">\n",
              "  <thead>\n",
              "    <tr style=\"text-align: right;\">\n",
              "      <th>gender</th>\n",
              "      <th>female</th>\n",
              "      <th>male</th>\n",
              "    </tr>\n",
              "    <tr>\n",
              "      <th>communication_channel</th>\n",
              "      <th></th>\n",
              "      <th></th>\n",
              "    </tr>\n",
              "  </thead>\n",
              "  <tbody>\n",
              "    <tr>\n",
              "      <th>Ayiti Analytics Website</th>\n",
              "      <td>4.0</td>\n",
              "      <td>11.0</td>\n",
              "    </tr>\n",
              "    <tr>\n",
              "      <th>Bootcamp Alumni</th>\n",
              "      <td>8.0</td>\n",
              "      <td>6.0</td>\n",
              "    </tr>\n",
              "    <tr>\n",
              "      <th>ESIH</th>\n",
              "      <td>5.0</td>\n",
              "      <td>13.0</td>\n",
              "    </tr>\n",
              "    <tr>\n",
              "      <th>Facebook</th>\n",
              "      <td>5.0</td>\n",
              "      <td>34.0</td>\n",
              "    </tr>\n",
              "    <tr>\n",
              "      <th>Friend</th>\n",
              "      <td>11.0</td>\n",
              "      <td>56.0</td>\n",
              "    </tr>\n",
              "    <tr>\n",
              "      <th>Instagram</th>\n",
              "      <td>1.0</td>\n",
              "      <td>4.0</td>\n",
              "    </tr>\n",
              "    <tr>\n",
              "      <th>LinkedIn</th>\n",
              "      <td>1.0</td>\n",
              "      <td>14.0</td>\n",
              "    </tr>\n",
              "    <tr>\n",
              "      <th>WhatsApp</th>\n",
              "      <td>9.0</td>\n",
              "      <td>57.0</td>\n",
              "    </tr>\n",
              "    <tr>\n",
              "      <th>other</th>\n",
              "      <td>2.0</td>\n",
              "      <td>7.0</td>\n",
              "    </tr>\n",
              "    <tr>\n",
              "      <th>unknown</th>\n",
              "      <td>NaN</td>\n",
              "      <td>1.0</td>\n",
              "    </tr>\n",
              "  </tbody>\n",
              "</table>\n",
              "</div>"
            ],
            "text/plain": [
              "gender                   female  male\n",
              "communication_channel                \n",
              "Ayiti Analytics Website     4.0  11.0\n",
              "Bootcamp Alumni             8.0   6.0\n",
              "ESIH                        5.0  13.0\n",
              "Facebook                    5.0  34.0\n",
              "Friend                     11.0  56.0\n",
              "Instagram                   1.0   4.0\n",
              "LinkedIn                    1.0  14.0\n",
              "WhatsApp                    9.0  57.0\n",
              "other                       2.0   7.0\n",
              "unknown                     NaN   1.0"
            ]
          },
          "metadata": {
            "tags": []
          }
        },
        {
          "output_type": "stream",
          "text": [
            "\n",
            "\n",
            "\n",
            "\n",
            "Gender distribution by Bootcamp interest\n"
          ],
          "name": "stdout"
        },
        {
          "output_type": "display_data",
          "data": {
            "text/html": [
              "<div>\n",
              "<style scoped>\n",
              "    .dataframe tbody tr th:only-of-type {\n",
              "        vertical-align: middle;\n",
              "    }\n",
              "\n",
              "    .dataframe tbody tr th {\n",
              "        vertical-align: top;\n",
              "    }\n",
              "\n",
              "    .dataframe thead th {\n",
              "        text-align: right;\n",
              "    }\n",
              "</style>\n",
              "<table border=\"1\" class=\"dataframe\">\n",
              "  <thead>\n",
              "    <tr style=\"text-align: right;\">\n",
              "      <th>gender</th>\n",
              "      <th>female</th>\n",
              "      <th>male</th>\n",
              "    </tr>\n",
              "    <tr>\n",
              "      <th>Bootcamp_Interest</th>\n",
              "      <th></th>\n",
              "      <th></th>\n",
              "    </tr>\n",
              "  </thead>\n",
              "  <tbody>\n",
              "    <tr>\n",
              "      <th>Finding a job/internship</th>\n",
              "      <td>10.0</td>\n",
              "      <td>33.0</td>\n",
              "    </tr>\n",
              "    <tr>\n",
              "      <th>Improving my data analysis skills</th>\n",
              "      <td>24.0</td>\n",
              "      <td>106.0</td>\n",
              "    </tr>\n",
              "    <tr>\n",
              "      <th>Mentorship</th>\n",
              "      <td>3.0</td>\n",
              "      <td>9.0</td>\n",
              "    </tr>\n",
              "    <tr>\n",
              "      <th>Switching careers</th>\n",
              "      <td>3.0</td>\n",
              "      <td>17.0</td>\n",
              "    </tr>\n",
              "    <tr>\n",
              "      <th>Training to start my own company</th>\n",
              "      <td>6.0</td>\n",
              "      <td>33.0</td>\n",
              "    </tr>\n",
              "    <tr>\n",
              "      <th>other</th>\n",
              "      <td>NaN</td>\n",
              "      <td>3.0</td>\n",
              "    </tr>\n",
              "    <tr>\n",
              "      <th>unknown</th>\n",
              "      <td>NaN</td>\n",
              "      <td>2.0</td>\n",
              "    </tr>\n",
              "  </tbody>\n",
              "</table>\n",
              "</div>"
            ],
            "text/plain": [
              "gender                             female   male\n",
              "Bootcamp_Interest                               \n",
              "Finding a job/internship             10.0   33.0\n",
              "Improving my data analysis skills    24.0  106.0\n",
              "Mentorship                            3.0    9.0\n",
              "Switching careers                     3.0   17.0\n",
              "Training to start my own company      6.0   33.0\n",
              "other                                 NaN    3.0\n",
              "unknown                               NaN    2.0"
            ]
          },
          "metadata": {
            "tags": []
          }
        }
      ]
    },
    {
      "cell_type": "code",
      "metadata": {
        "colab": {
          "base_uri": "https://localhost:8080/",
          "height": 726
        },
        "id": "ORE98L5s2Ioj",
        "outputId": "974f59a0-b4f0-456d-9dbe-7d6f74802ded"
      },
      "source": [
        "# communication channel by gender\n",
        "fig18 =cha_gender.plot(kind='bar', stacked=False,\n",
        "          colormap=ListedColormap(sns.color_palette(\"pastel\", 2)), \n",
        "          figsize=(20,10))"
      ],
      "execution_count": null,
      "outputs": [
        {
          "output_type": "display_data",
          "data": {
            "image/png": "[encoded data removed]",
            "text/plain": [
              "<Figure size 1440x720 with 1 Axes>"
            ]
          },
          "metadata": {
            "tags": []
          }
        }
      ]
    },
    {
      "cell_type": "markdown",
      "metadata": {
        "id": "hRh7xHydPcLP"
      },
      "source": [
        "### 19. Calculate \n",
        "    * P(Bootcamp Insterest,Communication channels,Gender/Payed=yes)\n",
        "    * P(Bootcamp Insterest,Communication channels,Gender/Payed=no)"
      ]
    },
    {
      "cell_type": "code",
      "metadata": {
        "id": "BI4Y9U284Uaj"
      },
      "source": [
        "# shape \n",
        "Yes=len(data[data[\"payed\"]==\"Yes\"])\n",
        "No=len(data)-Yes"
      ],
      "execution_count": null,
      "outputs": []
    },
    {
      "cell_type": "code",
      "metadata": {
        "colab": {
          "base_uri": "https://localhost:8080/",
          "height": 1000
        },
        "id": "6RU3KdwK4UfP",
        "outputId": "66a52cb1-fb22-49d5-f92b-a4afdd312924"
      },
      "source": [
        "tablo_yes=pd.pivot_table(data[data['payed']==\"Yes\"], values=\"Nbr_of_applicants\", index=['Bootcamp_Interest', 'communication_channel','gender'], aggfunc=\"count\")\n",
        "tablo_yes=tablo_yes/Yes\n",
        "print(\"Probabilities for a payed applicant by Bootcamp interest , communication channel and gender category\")\n",
        "display(tablo_yes)\n",
        "\n",
        "#here your code\n",
        "tablo_no=pd.pivot_table(data[data['payed']==\"No\"], values=\"Nbr_of_applicants\", index=['Bootcamp_Interest', 'communication_channel','gender'], aggfunc=\"count\")\n",
        "tablo_no=tablo_no/No\n",
        "print(\"Probabilities for a non-payed applicant by Bootcamp interest , communication channel and gender category\")\n",
        "display(tablo_no)"
      ],
      "execution_count": null,
      "outputs": [
        {
          "output_type": "stream",
          "text": [
            "Probabilities for a payed applicant by Bootcamp interest , communication channel and gender category\n"
          ],
          "name": "stdout"
        },
        {
          "output_type": "display_data",
          "data": {
            "text/html": [
              "<div>\n",
              "<style scoped>\n",
              "    .dataframe tbody tr th:only-of-type {\n",
              "        vertical-align: middle;\n",
              "    }\n",
              "\n",
              "    .dataframe tbody tr th {\n",
              "        vertical-align: top;\n",
              "    }\n",
              "\n",
              "    .dataframe thead th {\n",
              "        text-align: right;\n",
              "    }\n",
              "</style>\n",
              "<table border=\"1\" class=\"dataframe\">\n",
              "  <thead>\n",
              "    <tr style=\"text-align: right;\">\n",
              "      <th></th>\n",
              "      <th></th>\n",
              "      <th></th>\n",
              "      <th>Nbr_of_applicants</th>\n",
              "    </tr>\n",
              "    <tr>\n",
              "      <th>Bootcamp_Interest</th>\n",
              "      <th>communication_channel</th>\n",
              "      <th>gender</th>\n",
              "      <th></th>\n",
              "    </tr>\n",
              "  </thead>\n",
              "  <tbody>\n",
              "    <tr>\n",
              "      <th rowspan=\"10\" valign=\"top\">Finding a job/internship</th>\n",
              "      <th>Ayiti Analytics Website</th>\n",
              "      <th>male</th>\n",
              "      <td>0.015385</td>\n",
              "    </tr>\n",
              "    <tr>\n",
              "      <th>Bootcamp Alumni</th>\n",
              "      <th>female</th>\n",
              "      <td>0.015385</td>\n",
              "    </tr>\n",
              "    <tr>\n",
              "      <th>ESIH</th>\n",
              "      <th>male</th>\n",
              "      <td>0.015385</td>\n",
              "    </tr>\n",
              "    <tr>\n",
              "      <th>Facebook</th>\n",
              "      <th>male</th>\n",
              "      <td>0.015385</td>\n",
              "    </tr>\n",
              "    <tr>\n",
              "      <th rowspan=\"2\" valign=\"top\">Friend</th>\n",
              "      <th>female</th>\n",
              "      <td>0.015385</td>\n",
              "    </tr>\n",
              "    <tr>\n",
              "      <th>male</th>\n",
              "      <td>0.030769</td>\n",
              "    </tr>\n",
              "    <tr>\n",
              "      <th>Instagram</th>\n",
              "      <th>male</th>\n",
              "      <td>0.015385</td>\n",
              "    </tr>\n",
              "    <tr>\n",
              "      <th>LinkedIn</th>\n",
              "      <th>male</th>\n",
              "      <td>0.015385</td>\n",
              "    </tr>\n",
              "    <tr>\n",
              "      <th rowspan=\"2\" valign=\"top\">WhatsApp</th>\n",
              "      <th>female</th>\n",
              "      <td>0.015385</td>\n",
              "    </tr>\n",
              "    <tr>\n",
              "      <th>male</th>\n",
              "      <td>0.046154</td>\n",
              "    </tr>\n",
              "    <tr>\n",
              "      <th rowspan=\"13\" valign=\"top\">Improving my data analysis skills</th>\n",
              "      <th>Ayiti Analytics Website</th>\n",
              "      <th>male</th>\n",
              "      <td>0.015385</td>\n",
              "    </tr>\n",
              "    <tr>\n",
              "      <th rowspan=\"2\" valign=\"top\">Bootcamp Alumni</th>\n",
              "      <th>female</th>\n",
              "      <td>0.015385</td>\n",
              "    </tr>\n",
              "    <tr>\n",
              "      <th>male</th>\n",
              "      <td>0.076923</td>\n",
              "    </tr>\n",
              "    <tr>\n",
              "      <th>ESIH</th>\n",
              "      <th>male</th>\n",
              "      <td>0.030769</td>\n",
              "    </tr>\n",
              "    <tr>\n",
              "      <th rowspan=\"2\" valign=\"top\">Facebook</th>\n",
              "      <th>female</th>\n",
              "      <td>0.030769</td>\n",
              "    </tr>\n",
              "    <tr>\n",
              "      <th>male</th>\n",
              "      <td>0.076923</td>\n",
              "    </tr>\n",
              "    <tr>\n",
              "      <th rowspan=\"2\" valign=\"top\">Friend</th>\n",
              "      <th>female</th>\n",
              "      <td>0.030769</td>\n",
              "    </tr>\n",
              "    <tr>\n",
              "      <th>male</th>\n",
              "      <td>0.215385</td>\n",
              "    </tr>\n",
              "    <tr>\n",
              "      <th rowspan=\"2\" valign=\"top\">LinkedIn</th>\n",
              "      <th>female</th>\n",
              "      <td>0.015385</td>\n",
              "    </tr>\n",
              "    <tr>\n",
              "      <th>male</th>\n",
              "      <td>0.015385</td>\n",
              "    </tr>\n",
              "    <tr>\n",
              "      <th rowspan=\"2\" valign=\"top\">WhatsApp</th>\n",
              "      <th>female</th>\n",
              "      <td>0.046154</td>\n",
              "    </tr>\n",
              "    <tr>\n",
              "      <th>male</th>\n",
              "      <td>0.046154</td>\n",
              "    </tr>\n",
              "    <tr>\n",
              "      <th>other</th>\n",
              "      <th>male</th>\n",
              "      <td>0.015385</td>\n",
              "    </tr>\n",
              "    <tr>\n",
              "      <th>Mentorship</th>\n",
              "      <th>other</th>\n",
              "      <th>female</th>\n",
              "      <td>0.015385</td>\n",
              "    </tr>\n",
              "    <tr>\n",
              "      <th>Switching careers</th>\n",
              "      <th>Bootcamp Alumni</th>\n",
              "      <th>female</th>\n",
              "      <td>0.015385</td>\n",
              "    </tr>\n",
              "    <tr>\n",
              "      <th rowspan=\"4\" valign=\"top\">Training to start my own company</th>\n",
              "      <th>Ayiti Analytics Website</th>\n",
              "      <th>male</th>\n",
              "      <td>0.015385</td>\n",
              "    </tr>\n",
              "    <tr>\n",
              "      <th>Facebook</th>\n",
              "      <th>male</th>\n",
              "      <td>0.015385</td>\n",
              "    </tr>\n",
              "    <tr>\n",
              "      <th>Friend</th>\n",
              "      <th>male</th>\n",
              "      <td>0.046154</td>\n",
              "    </tr>\n",
              "    <tr>\n",
              "      <th>WhatsApp</th>\n",
              "      <th>male</th>\n",
              "      <td>0.030769</td>\n",
              "    </tr>\n",
              "    <tr>\n",
              "      <th rowspan=\"2\" valign=\"top\">other</th>\n",
              "      <th>ESIH</th>\n",
              "      <th>male</th>\n",
              "      <td>0.015385</td>\n",
              "    </tr>\n",
              "    <tr>\n",
              "      <th>WhatsApp</th>\n",
              "      <th>male</th>\n",
              "      <td>0.015385</td>\n",
              "    </tr>\n",
              "  </tbody>\n",
              "</table>\n",
              "</div>"
            ],
            "text/plain": [
              "                                                                  Nbr_of_applicants\n",
              "Bootcamp_Interest                 communication_channel   gender                   \n",
              "Finding a job/internship          Ayiti Analytics Website male             0.015385\n",
              "                                  Bootcamp Alumni         female           0.015385\n",
              "                                  ESIH                    male             0.015385\n",
              "                                  Facebook                male             0.015385\n",
              "                                  Friend                  female           0.015385\n",
              "                                                          male             0.030769\n",
              "                                  Instagram               male             0.015385\n",
              "                                  LinkedIn                male             0.015385\n",
              "                                  WhatsApp                female           0.015385\n",
              "                                                          male             0.046154\n",
              "Improving my data analysis skills Ayiti Analytics Website male             0.015385\n",
              "                                  Bootcamp Alumni         female           0.015385\n",
              "                                                          male             0.076923\n",
              "                                  ESIH                    male             0.030769\n",
              "                                  Facebook                female           0.030769\n",
              "                                                          male             0.076923\n",
              "                                  Friend                  female           0.030769\n",
              "                                                          male             0.215385\n",
              "                                  LinkedIn                female           0.015385\n",
              "                                                          male             0.015385\n",
              "                                  WhatsApp                female           0.046154\n",
              "                                                          male             0.046154\n",
              "                                  other                   male             0.015385\n",
              "Mentorship                        other                   female           0.015385\n",
              "Switching careers                 Bootcamp Alumni         female           0.015385\n",
              "Training to start my own company  Ayiti Analytics Website male             0.015385\n",
              "                                  Facebook                male             0.015385\n",
              "                                  Friend                  male             0.046154\n",
              "                                  WhatsApp                male             0.030769\n",
              "other                             ESIH                    male             0.015385\n",
              "                                  WhatsApp                male             0.015385"
            ]
          },
          "metadata": {
            "tags": []
          }
        },
        {
          "output_type": "stream",
          "text": [
            "Probabilities for a non-payed applicant by Bootcamp interest , communication channel and gender category\n"
          ],
          "name": "stdout"
        },
        {
          "output_type": "display_data",
          "data": {
            "text/html": [
              "<div>\n",
              "<style scoped>\n",
              "    .dataframe tbody tr th:only-of-type {\n",
              "        vertical-align: middle;\n",
              "    }\n",
              "\n",
              "    .dataframe tbody tr th {\n",
              "        vertical-align: top;\n",
              "    }\n",
              "\n",
              "    .dataframe thead th {\n",
              "        text-align: right;\n",
              "    }\n",
              "</style>\n",
              "<table border=\"1\" class=\"dataframe\">\n",
              "  <thead>\n",
              "    <tr style=\"text-align: right;\">\n",
              "      <th></th>\n",
              "      <th></th>\n",
              "      <th></th>\n",
              "      <th>Nbr_of_applicants</th>\n",
              "    </tr>\n",
              "    <tr>\n",
              "      <th>Bootcamp_Interest</th>\n",
              "      <th>communication_channel</th>\n",
              "      <th>gender</th>\n",
              "      <th></th>\n",
              "    </tr>\n",
              "  </thead>\n",
              "  <tbody>\n",
              "    <tr>\n",
              "      <th rowspan=\"10\" valign=\"top\">Finding a job/internship</th>\n",
              "      <th>Bootcamp Alumni</th>\n",
              "      <th>female</th>\n",
              "      <td>0.010870</td>\n",
              "    </tr>\n",
              "    <tr>\n",
              "      <th>ESIH</th>\n",
              "      <th>male</th>\n",
              "      <td>0.005435</td>\n",
              "    </tr>\n",
              "    <tr>\n",
              "      <th rowspan=\"2\" valign=\"top\">Facebook</th>\n",
              "      <th>female</th>\n",
              "      <td>0.010870</td>\n",
              "    </tr>\n",
              "    <tr>\n",
              "      <th>male</th>\n",
              "      <td>0.038043</td>\n",
              "    </tr>\n",
              "    <tr>\n",
              "      <th rowspan=\"2\" valign=\"top\">Friend</th>\n",
              "      <th>female</th>\n",
              "      <td>0.016304</td>\n",
              "    </tr>\n",
              "    <tr>\n",
              "      <th>male</th>\n",
              "      <td>0.021739</td>\n",
              "    </tr>\n",
              "    <tr>\n",
              "      <th>Instagram</th>\n",
              "      <th>male</th>\n",
              "      <td>0.005435</td>\n",
              "    </tr>\n",
              "    <tr>\n",
              "      <th>LinkedIn</th>\n",
              "      <th>male</th>\n",
              "      <td>0.005435</td>\n",
              "    </tr>\n",
              "    <tr>\n",
              "      <th>WhatsApp</th>\n",
              "      <th>male</th>\n",
              "      <td>0.038043</td>\n",
              "    </tr>\n",
              "    <tr>\n",
              "      <th>other</th>\n",
              "      <th>male</th>\n",
              "      <td>0.010870</td>\n",
              "    </tr>\n",
              "    <tr>\n",
              "      <th rowspan=\"13\" valign=\"top\">Improving my data analysis skills</th>\n",
              "      <th rowspan=\"2\" valign=\"top\">Ayiti Analytics Website</th>\n",
              "      <th>female</th>\n",
              "      <td>0.010870</td>\n",
              "    </tr>\n",
              "    <tr>\n",
              "      <th>male</th>\n",
              "      <td>0.032609</td>\n",
              "    </tr>\n",
              "    <tr>\n",
              "      <th>Bootcamp Alumni</th>\n",
              "      <th>female</th>\n",
              "      <td>0.010870</td>\n",
              "    </tr>\n",
              "    <tr>\n",
              "      <th rowspan=\"2\" valign=\"top\">ESIH</th>\n",
              "      <th>female</th>\n",
              "      <td>0.016304</td>\n",
              "    </tr>\n",
              "    <tr>\n",
              "      <th>male</th>\n",
              "      <td>0.038043</td>\n",
              "    </tr>\n",
              "    <tr>\n",
              "      <th>Facebook</th>\n",
              "      <th>male</th>\n",
              "      <td>0.070652</td>\n",
              "    </tr>\n",
              "    <tr>\n",
              "      <th rowspan=\"2\" valign=\"top\">Friend</th>\n",
              "      <th>female</th>\n",
              "      <td>0.021739</td>\n",
              "    </tr>\n",
              "    <tr>\n",
              "      <th>male</th>\n",
              "      <td>0.097826</td>\n",
              "    </tr>\n",
              "    <tr>\n",
              "      <th>LinkedIn</th>\n",
              "      <th>male</th>\n",
              "      <td>0.043478</td>\n",
              "    </tr>\n",
              "    <tr>\n",
              "      <th rowspan=\"2\" valign=\"top\">WhatsApp</th>\n",
              "      <th>female</th>\n",
              "      <td>0.016304</td>\n",
              "    </tr>\n",
              "    <tr>\n",
              "      <th>male</th>\n",
              "      <td>0.108696</td>\n",
              "    </tr>\n",
              "    <tr>\n",
              "      <th rowspan=\"2\" valign=\"top\">other</th>\n",
              "      <th>female</th>\n",
              "      <td>0.005435</td>\n",
              "    </tr>\n",
              "    <tr>\n",
              "      <th>male</th>\n",
              "      <td>0.010870</td>\n",
              "    </tr>\n",
              "    <tr>\n",
              "      <th rowspan=\"6\" valign=\"top\">Mentorship</th>\n",
              "      <th>Ayiti Analytics Website</th>\n",
              "      <th>male</th>\n",
              "      <td>0.005435</td>\n",
              "    </tr>\n",
              "    <tr>\n",
              "      <th>ESIH</th>\n",
              "      <th>female</th>\n",
              "      <td>0.005435</td>\n",
              "    </tr>\n",
              "    <tr>\n",
              "      <th rowspan=\"2\" valign=\"top\">Facebook</th>\n",
              "      <th>female</th>\n",
              "      <td>0.005435</td>\n",
              "    </tr>\n",
              "    <tr>\n",
              "      <th>male</th>\n",
              "      <td>0.005435</td>\n",
              "    </tr>\n",
              "    <tr>\n",
              "      <th>Friend</th>\n",
              "      <th>male</th>\n",
              "      <td>0.005435</td>\n",
              "    </tr>\n",
              "    <tr>\n",
              "      <th>WhatsApp</th>\n",
              "      <th>male</th>\n",
              "      <td>0.032609</td>\n",
              "    </tr>\n",
              "    <tr>\n",
              "      <th rowspan=\"8\" valign=\"top\">Switching careers</th>\n",
              "      <th rowspan=\"2\" valign=\"top\">Ayiti Analytics Website</th>\n",
              "      <th>female</th>\n",
              "      <td>0.005435</td>\n",
              "    </tr>\n",
              "    <tr>\n",
              "      <th>male</th>\n",
              "      <td>0.005435</td>\n",
              "    </tr>\n",
              "    <tr>\n",
              "      <th>Facebook</th>\n",
              "      <th>male</th>\n",
              "      <td>0.016304</td>\n",
              "    </tr>\n",
              "    <tr>\n",
              "      <th>Friend</th>\n",
              "      <th>male</th>\n",
              "      <td>0.021739</td>\n",
              "    </tr>\n",
              "    <tr>\n",
              "      <th>Instagram</th>\n",
              "      <th>male</th>\n",
              "      <td>0.005435</td>\n",
              "    </tr>\n",
              "    <tr>\n",
              "      <th>LinkedIn</th>\n",
              "      <th>male</th>\n",
              "      <td>0.005435</td>\n",
              "    </tr>\n",
              "    <tr>\n",
              "      <th rowspan=\"2\" valign=\"top\">WhatsApp</th>\n",
              "      <th>female</th>\n",
              "      <td>0.005435</td>\n",
              "    </tr>\n",
              "    <tr>\n",
              "      <th>male</th>\n",
              "      <td>0.038043</td>\n",
              "    </tr>\n",
              "    <tr>\n",
              "      <th rowspan=\"13\" valign=\"top\">Training to start my own company</th>\n",
              "      <th>Ayiti Analytics Website</th>\n",
              "      <th>female</th>\n",
              "      <td>0.005435</td>\n",
              "    </tr>\n",
              "    <tr>\n",
              "      <th>Bootcamp Alumni</th>\n",
              "      <th>female</th>\n",
              "      <td>0.005435</td>\n",
              "    </tr>\n",
              "    <tr>\n",
              "      <th rowspan=\"2\" valign=\"top\">ESIH</th>\n",
              "      <th>female</th>\n",
              "      <td>0.005435</td>\n",
              "    </tr>\n",
              "    <tr>\n",
              "      <th>male</th>\n",
              "      <td>0.005435</td>\n",
              "    </tr>\n",
              "    <tr>\n",
              "      <th>Facebook</th>\n",
              "      <th>male</th>\n",
              "      <td>0.016304</td>\n",
              "    </tr>\n",
              "    <tr>\n",
              "      <th rowspan=\"2\" valign=\"top\">Friend</th>\n",
              "      <th>female</th>\n",
              "      <td>0.005435</td>\n",
              "    </tr>\n",
              "    <tr>\n",
              "      <th>male</th>\n",
              "      <td>0.054348</td>\n",
              "    </tr>\n",
              "    <tr>\n",
              "      <th rowspan=\"2\" valign=\"top\">Instagram</th>\n",
              "      <th>female</th>\n",
              "      <td>0.005435</td>\n",
              "    </tr>\n",
              "    <tr>\n",
              "      <th>male</th>\n",
              "      <td>0.005435</td>\n",
              "    </tr>\n",
              "    <tr>\n",
              "      <th>LinkedIn</th>\n",
              "      <th>male</th>\n",
              "      <td>0.010870</td>\n",
              "    </tr>\n",
              "    <tr>\n",
              "      <th rowspan=\"2\" valign=\"top\">WhatsApp</th>\n",
              "      <th>female</th>\n",
              "      <td>0.005435</td>\n",
              "    </tr>\n",
              "    <tr>\n",
              "      <th>male</th>\n",
              "      <td>0.043478</td>\n",
              "    </tr>\n",
              "    <tr>\n",
              "      <th>other</th>\n",
              "      <th>male</th>\n",
              "      <td>0.005435</td>\n",
              "    </tr>\n",
              "    <tr>\n",
              "      <th>other</th>\n",
              "      <th>other</th>\n",
              "      <th>male</th>\n",
              "      <td>0.005435</td>\n",
              "    </tr>\n",
              "    <tr>\n",
              "      <th rowspan=\"2\" valign=\"top\">unknown</th>\n",
              "      <th>Bootcamp Alumni</th>\n",
              "      <th>male</th>\n",
              "      <td>0.005435</td>\n",
              "    </tr>\n",
              "    <tr>\n",
              "      <th>unknown</th>\n",
              "      <th>male</th>\n",
              "      <td>0.005435</td>\n",
              "    </tr>\n",
              "  </tbody>\n",
              "</table>\n",
              "</div>"
            ],
            "text/plain": [
              "                                                                  Nbr_of_applicants\n",
              "Bootcamp_Interest                 communication_channel   gender                   \n",
              "Finding a job/internship          Bootcamp Alumni         female           0.010870\n",
              "                                  ESIH                    male             0.005435\n",
              "                                  Facebook                female           0.010870\n",
              "                                                          male             0.038043\n",
              "                                  Friend                  female           0.016304\n",
              "                                                          male             0.021739\n",
              "                                  Instagram               male             0.005435\n",
              "                                  LinkedIn                male             0.005435\n",
              "                                  WhatsApp                male             0.038043\n",
              "                                  other                   male             0.010870\n",
              "Improving my data analysis skills Ayiti Analytics Website female           0.010870\n",
              "                                                          male             0.032609\n",
              "                                  Bootcamp Alumni         female           0.010870\n",
              "                                  ESIH                    female           0.016304\n",
              "                                                          male             0.038043\n",
              "                                  Facebook                male             0.070652\n",
              "                                  Friend                  female           0.021739\n",
              "                                                          male             0.097826\n",
              "                                  LinkedIn                male             0.043478\n",
              "                                  WhatsApp                female           0.016304\n",
              "                                                          male             0.108696\n",
              "                                  other                   female           0.005435\n",
              "                                                          male             0.010870\n",
              "Mentorship                        Ayiti Analytics Website male             0.005435\n",
              "                                  ESIH                    female           0.005435\n",
              "                                  Facebook                female           0.005435\n",
              "                                                          male             0.005435\n",
              "                                  Friend                  male             0.005435\n",
              "                                  WhatsApp                male             0.032609\n",
              "Switching careers                 Ayiti Analytics Website female           0.005435\n",
              "                                                          male             0.005435\n",
              "                                  Facebook                male             0.016304\n",
              "                                  Friend                  male             0.021739\n",
              "                                  Instagram               male             0.005435\n",
              "                                  LinkedIn                male             0.005435\n",
              "                                  WhatsApp                female           0.005435\n",
              "                                                          male             0.038043\n",
              "Training to start my own company  Ayiti Analytics Website female           0.005435\n",
              "                                  Bootcamp Alumni         female           0.005435\n",
              "                                  ESIH                    female           0.005435\n",
              "                                                          male             0.005435\n",
              "                                  Facebook                male             0.016304\n",
              "                                  Friend                  female           0.005435\n",
              "                                                          male             0.054348\n",
              "                                  Instagram               female           0.005435\n",
              "                                                          male             0.005435\n",
              "                                  LinkedIn                male             0.010870\n",
              "                                  WhatsApp                female           0.005435\n",
              "                                                          male             0.043478\n",
              "                                  other                   male             0.005435\n",
              "other                             other                   male             0.005435\n",
              "unknown                           Bootcamp Alumni         male             0.005435\n",
              "                                  unknown                 male             0.005435"
            ]
          },
          "metadata": {
            "tags": []
          }
        }
      ]
    },
    {
      "cell_type": "markdown",
      "metadata": {
        "id": "EWHsVVAVPcLQ"
      },
      "source": [
        "### 20 reduce \n",
        "* P(Payed=\"yes\"/Bootcamp Insterest=\"Increase Skill\",Communication channels=\"Friend\",Gender=\"male\")\n",
        "* P(Payed=\"no\"/Bootcamp Insterest=\"Increase Skill\",Communication channels=\"Friend\",Gender=\"male\")"
      ]
    },
    {
      "cell_type": "code",
      "metadata": {
        "id": "9UvMjvCKPcLQ",
        "colab": {
          "base_uri": "https://localhost:8080/"
        },
        "outputId": "2f600c0d-07cb-4e7b-dd71-6e0ef449f313"
      },
      "source": [
        "# here your codes\n",
        "result8=data[(data[\"Bootcamp_Interest\"]==\"Improving my data analysis skills\") &(data['communication_channel']==\"Friend\") & (data['gender']=='male')]\n",
        "result8=result8['payed'].value_counts(normalize=True)\n",
        "result8.rename(index={\"Yes\": \"Probability than the applicant payes knowing he wants to improve her skills,he is a male and he is invited by a friend\",\"No\": \"Probability than the applicant doesn't pay knowing he wants to improve her skills, he is a male and he is invited by a friend\"}, inplace=True)\n",
        "result8"
      ],
      "execution_count": null,
      "outputs": [
        {
          "output_type": "execute_result",
          "data": {
            "text/plain": [
              "Probability than the applicant doesn't pay knowing he wants to improve her skills, he is a male and he is invited by a friend    0.5625\n",
              "Probability than the applicant payes knowing he wants to improve her skills,he is a male and he is invited by a friend           0.4375\n",
              "Name: payed, dtype: float64"
            ]
          },
          "metadata": {
            "tags": []
          },
          "execution_count": 183
        }
      ]
    },
    {
      "cell_type": "markdown",
      "metadata": {
        "id": "l-1ugVaDPcLQ"
      },
      "source": [
        "### 21. Based on these findings, propose strategies to increase our sales?"
      ]
    },
    {
      "cell_type": "markdown",
      "metadata": {
        "id": "5_csP1sC_baH"
      },
      "source": [
        ""
      ]
    },
    {
      "cell_type": "markdown",
      "metadata": {
        "id": "4ZWNpYQ98TEK"
      },
      "source": [
        "### 22. References"
      ]
    },
    {
      "cell_type": "markdown",
      "metadata": {
        "id": "fEOQU4Fo8aeA"
      },
      "source": [
        "\n",
        "*   https://www.pythonfordatascience.org/anova-python/\n",
        "*   https://support.minitab.com/en-us/minitab-express/1/help-and-how-to/modeling-statistics/anova/how-to/one-way-anova/interpret-the-results/key-results/#step-1-determine-whether-the-differences-between-group-means-are-statistically-significant\n",
        "\n",
        "* https://seaborn.pydata.org/examples/faceted_histogram.html\n",
        "* Sergineau LOUIS\n",
        "* Gothie R. PASTEUR\n",
        "* Chasnick DESIR"
      ]
    },
    {
      "cell_type": "code",
      "metadata": {
        "id": "mf454_Rl_S4I"
      },
      "source": [
        ""
      ],
      "execution_count": null,
      "outputs": []
    }
  ]
}